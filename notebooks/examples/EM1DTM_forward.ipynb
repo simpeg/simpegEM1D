{
 "cells": [
  {
   "cell_type": "code",
   "execution_count": 1,
   "metadata": {
    "scrolled": false
   },
   "outputs": [
    {
     "name": "stdout",
     "output_type": "stream",
     "text": [
      "Populating the interactive namespace from numpy and matplotlib\n"
     ]
    }
   ],
   "source": [
    "from SimPEG import *\n",
    "from simpegEM1D import (\n",
    "    Utils1D, get_vertical_discretization_time, \n",
    "    set_mesh_1d, skytem_HM_2015\n",
    ")\n",
    "from simpegEM1D.simulation import EM1DTMSimulation\n",
    "from simpegEM1D.survey import EM1DSurveyTD\n",
    "from simpegEM1D.sources import *\n",
    "from simpegEM1D.receivers import *\n",
    "from simpegEM1D import analytics\n",
    "import numpy as np\n",
    "from simpegEM1D import skytem_HM_2015\n",
    "from simpegEM1D.supporting_functions.digital_filter import setFrequency, transFilt\n",
    "from scipy.constants import mu_0\n",
    "%pylab inline"
   ]
  },
  {
   "cell_type": "markdown",
   "metadata": {},
   "source": [
    "# Set up for EM1D program\n",
    "\n",
    "## Step 1: Generate Mesh"
   ]
  },
  {
   "cell_type": "code",
   "execution_count": 2,
   "metadata": {},
   "outputs": [],
   "source": [
    "hz = np.array([10, 10, 10])\n",
    "mesh1D = set_mesh_1d(hz)\n",
    "depth = -mesh1D.gridN[:-1]\n",
    "nlay = len(depth)"
   ]
  },
  {
   "cell_type": "markdown",
   "metadata": {},
   "source": [
    "## Step2: Set survey parameters"
   ]
  },
  {
   "cell_type": "code",
   "execution_count": 3,
   "metadata": {},
   "outputs": [],
   "source": [
    "rx_location = np.array([10., 0., 0.])\n",
    "src_location = np.array([0., 0., 0.])\n",
    "times = np.logspace(-5, -2, 31)\n",
    "I = 1.\n",
    "a = 1.\n",
    "\n",
    "# Receiver list\n",
    "receiver_list = []\n",
    "receiver_list.append(\n",
    "    TimeDomainPointReceiver(\n",
    "        rx_location, times, orientation=\"z\", component=\"dhdt\"\n",
    "    )\n",
    ")\n",
    "\n",
    "# Sources\n",
    "source_list = [\n",
    "    TimeDomainMagneticDipoleSource(\n",
    "        receiver_list=receiver_list, location=src_location, orientation=\"z\", I=I\n",
    "    )\n",
    "]\n",
    "\n",
    "# Survey\n",
    "TDsurvey = EM1DSurveyTD(source_list)\n",
    "\n",
    "\n"
   ]
  },
  {
   "cell_type": "markdown",
   "metadata": {},
   "source": [
    "## Step 3: Model and Mapping"
   ]
  },
  {
   "cell_type": "code",
   "execution_count": 4,
   "metadata": {},
   "outputs": [],
   "source": [
    "sigma_half = 0.1\n",
    "sigma = np.ones(hz.size) * sigma_half\n",
    "\n",
    "chi_half = 0.\n",
    "Expmap = maps.ExpMap(mesh1D)\n",
    "tau =  np.ones(nlay, dtype=float)*1e-1\n",
    "eta = np.ones(nlay, dtype=float)*0.5\n",
    "c = np.ones(nlay, dtype=float)*0.88"
   ]
  },
  {
   "cell_type": "code",
   "execution_count": 5,
   "metadata": {},
   "outputs": [],
   "source": [
    "m_1D = np.log(np.ones(nlay)*sigma_half)"
   ]
  },
  {
   "cell_type": "code",
   "execution_count": 6,
   "metadata": {},
   "outputs": [
    {
     "name": "stdout",
     "output_type": "stream",
     "text": [
      "(31,)\n",
      "[-9.92937941e-07 -6.17689284e-07 -3.75646836e-07 -2.24602803e-07\n",
      " -1.32533952e-07 -7.74092430e-08 -4.48521362e-08 -2.58254102e-08\n",
      " -1.47968151e-08 -8.44500782e-09 -4.80503982e-09 -2.72731327e-09\n",
      " -1.54502184e-09 -8.73921628e-10 -4.93729793e-10 -2.78671206e-10\n",
      " -1.57167471e-10 -8.85864409e-11 -4.99075897e-11 -2.81067715e-11\n",
      " -1.58245975e-11 -8.90718303e-12 -5.01227757e-12 -2.81979375e-12\n",
      " -1.58599811e-12 -8.91901941e-13 -5.01544502e-13 -2.82042815e-13\n",
      " -1.58628428e-13 -8.92263344e-14 -5.02034756e-14]\n"
     ]
    }
   ],
   "source": [
    "# Conductivity\n",
    "simFD = EM1DTMSimulation(\n",
    "    mesh1D, survey=TDsurvey, sigmaMap=Expmap,\n",
    "    chi=np.zeros(nlay)\n",
    ")\n",
    "\n",
    "\n",
    "bz = simFD.fields(m_1D)\n",
    "print(np.shape(bz))\n",
    "print(bz)"
   ]
  },
  {
   "cell_type": "code",
   "execution_count": 7,
   "metadata": {},
   "outputs": [],
   "source": [
    "def analytic_solution(r, t, sigma, dtype='h'):\n",
    "    \"\"\"\n",
    "    r: offset bewteen VMD soure and Bz receiver (m)\n",
    "    t: measured times\n",
    "    sigma: conductivity of the half-space earth\n",
    "    \"\"\"\n",
    "    wt, tbase, omega_int = setFrequency(t)\n",
    "    hz = analytics.Hzanal(sigma, omega_int/2/np.pi, r, 'secondary')\n",
    "    if dtype=='dhdt':\n",
    "        hz *= 1j*omega_int\n",
    "    # Treatment for inaccuracy in analytic solutions\n",
    "    ind = omega_int < 0.2\n",
    "    hz[ind] = 0.\n",
    "    hzTD, f0 = transFilt(hz, wt, tbase, omega_int, t)\n",
    "    return hzTD*mu_0"
   ]
  },
  {
   "cell_type": "code",
   "execution_count": 8,
   "metadata": {},
   "outputs": [
    {
     "name": "stdout",
     "output_type": "stream",
     "text": [
      "(31,)\n",
      "[-9.95161669e-07 -6.20841539e-07 -3.78810288e-07 -2.25799726e-07\n",
      " -1.33069842e-07 -7.81387385e-08 -4.52134487e-08 -2.58631252e-08\n",
      " -1.49306593e-08 -8.52817273e-09 -4.81590694e-09 -2.74810393e-09\n",
      " -1.56156404e-09 -8.78911182e-10 -4.96400334e-10 -2.81652107e-10\n",
      " -1.58467449e-10 -8.88078264e-11 -5.04022696e-11 -2.83868835e-11\n",
      " -1.58432708e-11 -8.98129862e-12 -5.06659192e-12 -2.83415592e-12\n",
      " -1.59650652e-12 -9.02328531e-13 -5.05958122e-13 -2.83365433e-13\n",
      " -1.60468028e-13 -9.01946715e-14 -5.02429319e-14]\n"
     ]
    }
   ],
   "source": [
    "bz_analytic = analytic_solution(rx_location[0]-src_location[0], times, sigma_half, 'dhdt')\n",
    "print(np.shape(bz_analytic))\n",
    "print(bz_analytic)"
   ]
  },
  {
   "cell_type": "code",
   "execution_count": 9,
   "metadata": {},
   "outputs": [
    {
     "data": {
      "text/plain": [
       "<matplotlib.legend.Legend at 0x2868789cf08>"
      ]
     },
     "execution_count": 9,
     "metadata": {},
     "output_type": "execute_result"
    },
    {
     "data": {
      "image/png": "[encoded data removed]",
      "text/plain": [
       "<Figure size 504x360 with 1 Axes>"
      ]
     },
     "metadata": {
      "needs_background": "light"
     },
     "output_type": "display_data"
    }
   ],
   "source": [
    "fig, axes = subplots(1,1, figsize = (7,5))\n",
    "axes.loglog(times, np.abs(bz_analytic), '-')\n",
    "axes.loglog(times, np.abs(bz), 'o')\n",
    "axes.set_xscale('log')\n",
    "axes.set_yscale('log')\n",
    "axes.set_xlabel('Time (s)')\n",
    "axes.set_ylabel('Bz (T)')\n",
    "axes.legend((\"Analytic\", \"simpegEM1D\"))"
   ]
  },
  {
   "cell_type": "code",
   "execution_count": null,
   "metadata": {},
   "outputs": [],
   "source": []
  },
  {
   "cell_type": "code",
   "execution_count": null,
   "metadata": {},
   "outputs": [],
   "source": []
  }
 ],
 "metadata": {
  "kernelspec": {
   "display_name": "Python 3",
   "language": "python",
   "name": "python3"
  },
  "language_info": {
   "codemirror_mode": {
    "name": "ipython",
    "version": 3
   },
   "file_extension": ".py",
   "mimetype": "text/x-python",
   "name": "python",
   "nbconvert_exporter": "python",
   "pygments_lexer": "ipython3",
   "version": "3.7.4"
  }
 },
 "nbformat": 4,
 "nbformat_minor": 1
}
