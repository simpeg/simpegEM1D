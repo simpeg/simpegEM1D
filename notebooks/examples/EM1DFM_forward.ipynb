{
 "cells": [
  {
   "cell_type": "code",
   "execution_count": 1,
   "metadata": {},
   "outputs": [
    {
     "name": "stdout",
     "output_type": "stream",
     "text": [
      "Populating the interactive namespace from numpy and matplotlib\n"
     ]
    }
   ],
   "source": [
    "from discretize import TensorMesh\n",
    "from SimPEG import maps\n",
    "from simpegEM1D.simulation import EM1DFMSimulation\n",
    "from simpegEM1D.survey import EM1DSurveyFD\n",
    "from simpegEM1D.sources import *\n",
    "from simpegEM1D.receivers import *\n",
    "from simpegEM1D import analytics\n",
    "import numpy as np\n",
    "import matplotlib\n",
    "%pylab inline"
   ]
  },
  {
   "cell_type": "markdown",
   "metadata": {},
   "source": [
    "# Set up for EM1D program"
   ]
  },
  {
   "cell_type": "markdown",
   "metadata": {},
   "source": [
    "## Step1: Generate mesh"
   ]
  },
  {
   "cell_type": "code",
   "execution_count": 2,
   "metadata": {},
   "outputs": [
    {
     "name": "stdout",
     "output_type": "stream",
     "text": [
      "[-0.00000000e+00 -1.00000000e-01 -4.16227766e-01 -1.41622777e+00\n",
      " -4.57850543e+00 -1.45785054e+01 -2.45785054e+01 -3.74940021e+01\n",
      " -5.41750074e+01 -7.57193543e+01 -1.03544948e+02 -1.39483085e+02\n",
      " -1.85898973e+02 -2.45847398e+02 -3.23273767e+02]\n",
      "[ 0.1         0.31622777  1.          3.16227766 10.         10.\n",
      " 12.91549665 16.68100537 21.5443469  27.82559402 35.93813664 46.41588834\n",
      " 59.94842503 77.42636827]\n",
      "[-0.00000000e+00 -1.00000000e-01 -4.16227766e-01 -1.41622777e+00\n",
      " -4.57850543e+00 -1.45785054e+01 -2.45785054e+01 -3.74940021e+01\n",
      " -5.41750074e+01 -7.57193543e+01 -1.03544948e+02 -1.39483085e+02\n",
      " -1.85898973e+02 -2.45847398e+02 -3.23273767e+02]\n"
     ]
    }
   ],
   "source": [
    "nearthick = np.logspace(-1, 1, 5)\n",
    "deepthick = np.logspace(1, 2, 10)\n",
    "hx = np.r_[nearthick, deepthick]\n",
    "mesh1D = TensorMesh([hx], [0.])\n",
    "depth = -mesh1D.gridN[:-1]\n",
    "LocSigZ = -mesh1D.gridCC\n",
    "nlay = depth.size\n",
    "topo = np.r_[0., 0., 0.]\n",
    "print(depth)\n",
    "print(-np.diff(depth))\n",
    "print(-mesh1D.gridN[0:-1])"
   ]
  },
  {
   "cell_type": "markdown",
   "metadata": {},
   "source": [
    "## Step2: Set survey parameters"
   ]
  },
  {
   "cell_type": "code",
   "execution_count": 3,
   "metadata": {
    "scrolled": false
   },
   "outputs": [],
   "source": [
    "rx_location = np.array([8., 0., 0.])\n",
    "src_location = np.array([0., 0., 0.])\n",
    "frequencies = np.logspace(-2, 8, 61)\n",
    "I = 1.\n",
    "a = 1.\n",
    "field_type = \"secondary\" # \"total\", \"ppm\"\n",
    "\n",
    "# Receiver list\n",
    "receiver_list = []\n",
    "receiver_list.append(\n",
    "    HarmonicPointReceiver(\n",
    "        rx_location, frequencies, orientation=\"z\",\n",
    "        field_type=\"secondary\", component=\"real\"\n",
    "    )\n",
    ")\n",
    "receiver_list.append(\n",
    "    HarmonicPointReceiver(\n",
    "        rx_location, frequencies, orientation=\"z\",\n",
    "        field_type=\"secondary\", component=\"imag\"\n",
    "    )\n",
    ")\n",
    "\n",
    "# Sources\n",
    "source_list = [\n",
    "    HarmonicMagneticDipoleSource(\n",
    "        receiver_list=receiver_list, location=src_location, orientation=\"z\", I=I\n",
    "    )\n",
    "]\n",
    "\n",
    "# source_list = [\n",
    "#     HarmonicHorizontalLoopSource(\n",
    "#         receiver_list=receiver_list, location=src_location, a=a, I=I\n",
    "#     )\n",
    "# ]\n",
    "\n",
    "# Survey\n",
    "FDsurvey = EM1DSurveyFD(source_list)\n",
    "\n",
    "Colesurvey = EM1DSurveyFD(source_list)\n"
   ]
  },
  {
   "cell_type": "markdown",
   "metadata": {},
   "source": [
    "## Step3: Set mappings (Exponential and Cole-Cole maps)"
   ]
  },
  {
   "cell_type": "markdown",
   "metadata": {},
   "source": [
    "### Exponential map"
   ]
  },
  {
   "cell_type": "markdown",
   "metadata": {},
   "source": [
    "### $$ m = log(\\sigma) $$"
   ]
  },
  {
   "cell_type": "markdown",
   "metadata": {},
   "source": [
    "### $$ M_{exp}(m) = e^{m}$$"
   ]
  },
  {
   "cell_type": "markdown",
   "metadata": {},
   "source": [
    "### Cole-Cole map"
   ]
  },
  {
   "cell_type": "markdown",
   "metadata": {},
   "source": [
    "$$ m(\\sigma_{\\infty}, \\eta, \\tau, c; \\omega) = \\sigma_{\\infty} - \\sigma_{\\infty}\\eta \\frac{1}{1+(1-\\eta)(\\imath\\omega\\tau)^c}$$"
   ]
  },
  {
   "cell_type": "code",
   "execution_count": 4,
   "metadata": {},
   "outputs": [],
   "source": [
    "sig_half = 1e-2\n",
    "chi_half = 0.\n",
    "Expmap = maps.ExpMap(mesh1D)\n",
    "tau =  np.ones(nlay, dtype=float)*1e-1\n",
    "eta = np.ones(nlay, dtype=float)*0.5\n",
    "c = np.ones(nlay, dtype=float)*0.88"
   ]
  },
  {
   "cell_type": "code",
   "execution_count": 5,
   "metadata": {},
   "outputs": [],
   "source": [
    "m_1D = np.log(np.ones(nlay)*sig_half)"
   ]
  },
  {
   "cell_type": "code",
   "execution_count": 6,
   "metadata": {},
   "outputs": [
    {
     "name": "stdout",
     "output_type": "stream",
     "text": [
      "SAD I DIDN'T FIND IT\n",
      "SAD I DIDN'T FIND IT\n",
      "(122,)\n",
      "[-5.46799058e-17 -1.16896402e-16 -2.50681887e-16 -5.38655317e-16\n",
      " -1.15903476e-15 -2.49280581e-15 -5.35440132e-15 -1.14648491e-14\n",
      " -2.43827071e-14 -5.11171297e-14 -1.04109185e-13 -2.01013662e-13\n",
      " -3.58829149e-13 -6.06720506e-13 -1.06394230e-12 -1.88584081e-12\n",
      " -3.33558439e-12 -5.90958825e-12 -1.04968251e-11 -1.86339180e-11\n",
      " -3.30761887e-11 -5.87189264e-11 -1.04226195e-10 -1.84935729e-10\n",
      " -3.27993936e-10 -5.81400117e-10 -1.02990773e-09 -1.82292821e-09\n",
      " -3.22336302e-09 -5.69275377e-09 -1.00390953e-08 -1.76720061e-08\n",
      " -3.10401974e-08 -5.43749881e-08 -9.49400531e-08 -1.65102293e-07\n",
      " -2.85699664e-07 -4.91382245e-07 -8.38792464e-07 -1.41847289e-06\n",
      " -2.37086483e-06 -3.90488430e-06 -6.31284960e-06 -9.96569115e-06\n",
      " -1.52549352e-05 -2.24233036e-05 -3.12054975e-05 -4.02239115e-05\n",
      " -4.62349237e-05 -4.37081555e-05 -2.58109982e-05  1.19223605e-05\n",
      "  6.56056428e-05  1.19607359e-04  1.54009845e-04  1.62201830e-04\n",
      "  1.57645995e-04  1.55099666e-04  1.55346211e-04  1.55438183e-04\n",
      "  1.55423866e-04 -1.96234252e-12 -2.88032431e-12 -4.22773603e-12\n",
      " -6.20546187e-12 -9.10835352e-12 -1.33691751e-11 -1.96230780e-11\n",
      " -2.88021529e-11 -4.22739644e-11 -6.20442205e-11 -9.10528105e-11\n",
      " -1.33607199e-10 -1.96026112e-10 -2.87606012e-10 -4.21978042e-10\n",
      " -6.19036850e-10 -9.08050705e-10 -1.33179306e-09 -1.95296525e-09\n",
      " -2.86329900e-09 -4.19693573e-09 -6.14991769e-09 -9.00846260e-09\n",
      " -1.31899359e-08 -1.93020685e-08 -2.82282279e-08 -4.12496321e-08\n",
      " -6.02194990e-08 -8.78093657e-08 -1.27854148e-07 -1.85829392e-07\n",
      " -2.69500033e-07 -3.89781198e-07 -5.61840573e-07 -8.06433738e-07\n",
      " -1.15137109e-06 -1.63281838e-06 -2.29574962e-06 -3.19217123e-06\n",
      " -4.37453520e-06 -5.87985144e-06 -7.69730526e-06 -9.70911744e-06\n",
      " -1.15928368e-05 -1.26783691e-05 -1.17757633e-05 -7.04803009e-06\n",
      "  3.88605557e-06  2.32906067e-05  5.17274430e-05  8.56119100e-05\n",
      "  1.15323668e-04  1.27189018e-04  1.12212357e-04  7.71012129e-05\n",
      "  4.27991495e-05  2.42228201e-05  1.69490802e-05  1.20096985e-05\n",
      "  8.12727627e-06  5.53589383e-06]\n"
     ]
    }
   ],
   "source": [
    "# Conductivity\n",
    "simFD = EM1DFMSimulation(\n",
    "    survey=FDsurvey, depth=depth , sigmaMap=Expmap,\n",
    "    chi=np.zeros(nlay)\n",
    ")\n",
    "\n",
    "# Hz = simFD.dpred(m_1D)\n",
    "Hz = simFD.fields(m_1D)\n",
    "print(np.shape(Hz))\n",
    "print(Hz)"
   ]
  },
  {
   "cell_type": "code",
   "execution_count": 7,
   "metadata": {},
   "outputs": [
    {
     "name": "stdout",
     "output_type": "stream",
     "text": [
      "SAD I DIDN'T FIND IT\n",
      "SAD I DIDN'T FIND IT\n",
      "(122,)\n",
      "[ 5.53757290e-15  1.13879984e-14  2.33869700e-14  4.80265611e-14\n",
      "  9.85321185e-14  2.01925484e-13  4.13070866e-13  8.42699459e-13\n",
      "  1.71187054e-12  3.45402835e-12  6.89324945e-12  1.35141956e-11\n",
      "  2.57469873e-11  4.69381200e-11  8.03625965e-11  1.26323796e-10\n",
      "  1.80484076e-10  2.34605771e-10  2.81668418e-10  3.17628539e-10\n",
      "  3.40249353e-10  3.46382970e-10  3.29112985e-10  2.74424515e-10\n",
      "  1.56052188e-10 -7.34649201e-11 -4.98587742e-10 -1.26861497e-09\n",
      " -2.64647850e-09 -5.09387832e-09 -9.41909607e-09 -1.70321780e-08\n",
      " -3.03824285e-08 -5.37019594e-08 -9.42554839e-08 -1.64411243e-07\n",
      " -2.85008894e-07 -4.90700650e-07 -8.38131544e-07 -1.41784724e-06\n",
      " -2.37029252e-06 -3.90438704e-06 -6.31245224e-06 -9.96542029e-06\n",
      " -1.52548159e-05 -2.24233543e-05 -3.12057216e-05 -4.02242882e-05\n",
      " -4.62353997e-05 -4.37086455e-05 -2.58114013e-05  1.19221248e-05\n",
      "  6.56055912e-05  1.19607430e-04  1.54009937e-04  1.62201883e-04\n",
      "  1.57646011e-04  1.55099671e-04  1.55346214e-04  1.55438184e-04\n",
      "  1.55423867e-04 -9.82263144e-13 -1.44243389e-12 -2.11861458e-12\n",
      " -3.11270526e-12 -4.57529619e-12 -6.72974845e-12 -9.90931818e-12\n",
      " -1.46159963e-11 -2.16175922e-11 -3.21164614e-11 -4.80592236e-11\n",
      " -7.27264954e-11 -1.11841532e-10 -1.75456456e-10 -2.80588017e-10\n",
      " -4.53489970e-10 -7.29084498e-10 -1.15219144e-09 -1.78240651e-09\n",
      " -2.70633190e-09 -4.05412480e-09 -6.01972956e-09 -8.88867071e-09\n",
      " -1.30783931e-08 -1.91970525e-08 -2.81285629e-08 -4.11547143e-08\n",
      " -6.01292914e-08 -8.77243958e-08 -1.27775521e-07 -1.85758825e-07\n",
      " -2.69439907e-07 -3.89734624e-07 -5.61811467e-07 -8.06426882e-07\n",
      " -1.15139217e-06 -1.63287394e-06 -2.29584692e-06 -3.19231789e-06\n",
      " -4.37473857e-06 -5.88011751e-06 -7.69763704e-06 -9.70951271e-06\n",
      " -1.15932852e-05 -1.26788492e-05 -1.17762397e-05 -7.04845415e-06\n",
      "  3.88574150e-06  2.32904563e-05  5.17274855e-05  8.56121270e-05\n",
      "  1.15323983e-04  1.27189320e-04  1.12212552e-04  7.71012871e-05\n",
      "  4.27991566e-05  2.42228164e-05  1.69490808e-05  1.20096993e-05\n",
      "  8.12727655e-06  5.53589397e-06]\n"
     ]
    }
   ],
   "source": [
    "# Frequency-dependent conductivity\n",
    "simCole = EM1DFMSimulation(\n",
    "    survey=Colesurvey, depth=depth, sigmaMap=Expmap,\n",
    "    eta=eta, tau=tau, c=c,\n",
    "    chi=np.zeros(nlay)\n",
    ")\n",
    "\n",
    "# HzCole = simCole.dpred(m_1D)\n",
    "HzCole = simCole.fields(m_1D)\n",
    "Hzanal = analytics.Hzanal(sig_half, frequencies, 8., 'secondary')\n",
    "print(np.shape(HzCole))\n",
    "print(HzCole)"
   ]
  },
  {
   "cell_type": "code",
   "execution_count": 8,
   "metadata": {},
   "outputs": [],
   "source": [
    "matplotlib.rcParams['font.size'] = 16"
   ]
  },
  {
   "cell_type": "code",
   "execution_count": 9,
   "metadata": {},
   "outputs": [
    {
     "data": {
      "text/plain": [
       "<matplotlib.legend.Legend at 0x1c9f2495988>"
      ]
     },
     "execution_count": 9,
     "metadata": {},
     "output_type": "execute_result"
    },
    {
     "data": {
      "image/png": "[encoded data removed]",
      "text/plain": [
       "<Figure size 576x360 with 1 Axes>"
      ]
     },
     "metadata": {
      "needs_background": "light"
     },
     "output_type": "display_data"
    }
   ],
   "source": [
    "fig, ax = plt.subplots(1,1, figsize = (8, 5))\n",
    "ax.loglog(frequencies, np.abs(Hz[0:len(frequencies)]), 'b-')\n",
    "ax.loglog(frequencies, np.abs(np.real(Hzanal)), 'bx')\n",
    "ax.loglog(frequencies, np.abs(Hz[len(frequencies):]), 'r-')\n",
    "ax.loglog(frequencies, np.abs(np.imag(Hzanal)), 'rx')\n",
    "legend(('Real $H_{z}$', 'Real $H_{z \\ true}$', 'Imag $H_{z}$', 'Imag $H_{z \\ true}$'))"
   ]
  },
  {
   "cell_type": "code",
   "execution_count": 10,
   "metadata": {},
   "outputs": [
    {
     "data": {
      "text/plain": [
       "<matplotlib.legend.Legend at 0x1c9f25110c8>"
      ]
     },
     "execution_count": 10,
     "metadata": {},
     "output_type": "execute_result"
    },
    {
     "data": {
      "image/png": "[encoded data removed]",
      "text/plain": [
       "<Figure size 576x360 with 1 Axes>"
      ]
     },
     "metadata": {
      "needs_background": "light"
     },
     "output_type": "display_data"
    }
   ],
   "source": [
    "fig, ax = plt.subplots(1,1, figsize = (8, 5))\n",
    "ax.loglog(frequencies, np.abs(HzCole[0:len(frequencies)]), 'b-')\n",
    "ax.loglog(frequencies, np.abs(np.real(Hzanal)), 'bx')\n",
    "ax.loglog(frequencies, np.abs(HzCole[len(frequencies):]), 'r-')\n",
    "ax.loglog(frequencies, np.abs(np.imag(Hzanal)), 'rx')\n",
    "legend(('Real $H_{z}$', 'Real $H_{z \\ IP}$', 'Imag $H_{z}$', 'Imag $H_{z \\ IP}$'))"
   ]
  },
  {
   "cell_type": "code",
   "execution_count": null,
   "metadata": {},
   "outputs": [],
   "source": []
  },
  {
   "cell_type": "code",
   "execution_count": null,
   "metadata": {},
   "outputs": [],
   "source": []
  }
 ],
 "metadata": {
  "kernelspec": {
   "display_name": "Python 3",
   "language": "python",
   "name": "python3"
  },
  "language_info": {
   "codemirror_mode": {
    "name": "ipython",
    "version": 3
   },
   "file_extension": ".py",
   "mimetype": "text/x-python",
   "name": "python",
   "nbconvert_exporter": "python",
   "pygments_lexer": "ipython3",
   "version": "3.7.4"
  }
 },
 "nbformat": 4,
 "nbformat_minor": 1
}
