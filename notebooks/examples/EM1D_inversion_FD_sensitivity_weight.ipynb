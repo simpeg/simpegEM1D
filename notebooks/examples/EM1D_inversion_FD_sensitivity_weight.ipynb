{
 "cells": [
  {
   "cell_type": "code",
   "execution_count": 1,
   "metadata": {},
   "outputs": [],
   "source": [
    "from SimPEG import *\n",
    "from simpegEM1D import *\n",
    "from scipy.constants import mu_0\n",
    "import numpy as np\n",
    "frequency = np.array([382, 1822, 7970, 35920, 130100], dtype=float)\n",
    "hz = get_vertical_discretization_frequency(frequency, sigma_background=0.01)\n",
    "mesh1D = set_mesh_1d(hz)\n",
    "depth = -mesh1D.gridN[:-1]\n",
    "LocSigZ = -mesh1D.gridCC\n",
    "\n",
    "FDsurvey = EM1DSurveyFD(\n",
    "    rx_location = np.array([0., 0., 100.+30.]),\n",
    "    src_location = np.array([0., 0., 100.+30.]),\n",
    "    field_type = 'secondary',\n",
    "    rx_type = 'ppm',\n",
    "    src_type = 'VMD',\n",
    "    offset = np.ones(5)*7.86,\n",
    "    topo = np.r_[0., 0., 100.],\n",
    "    depth = depth,\n",
    "    frequency = frequency\n",
    ")\n",
    "\n",
    "sig_half = 1e-3\n",
    "sig_blk = sig_half*50.\n",
    "chi_half = 0.\n",
    "expmap = maps.ExpMap(mesh1D)\n",
    "sig  = np.ones(FDsurvey.n_layer)*sig_half\n",
    "blk_ind = (-50>LocSigZ) & (-80<LocSigZ)\n",
    "sig[blk_ind] = sig_blk\n",
    "# sig[-150>LocSigZ] = 0.1\n",
    "m_true = np.r_[np.log(sig)]"
   ]
  },
  {
   "cell_type": "code",
   "execution_count": 3,
   "metadata": {},
   "outputs": [],
   "source": [
    "sim = EM1DFMSimulation(\n",
    "    mesh1D, survey=FDsurvey, sigmaMap=expmap,\n",
    "    chi= np.zeros(FDsurvey.n_layer)\n",
    ")\n",
    "  \n",
    "d_true = sim.dpred(m_true)\n",
    "m0 = np.ones_like(m_true) * np.log(sig_half)\n",
    "d_0 = sim.dpred(m0)"
   ]
  },
  {
   "cell_type": "code",
   "execution_count": null,
   "metadata": {},
   "outputs": [],
   "source": [
    "FDsurvey.dtrue = d_true\n",
    "\n",
    "std = 0.05\n",
    "floor = 0.\n",
    "np.random.seed(1)\n",
    "uncert = std*abs(d_true)+floor\n",
    "noise = std*d_true*np.random.randn(d_true.size)\n",
    "d_obs = d_true + noise\n",
    "\n",
    "dataObj = data.Data(FDsurvey, dobs=d_obs, noise_floor=uncert)\n",
    "\n",
    "doi, _= sim.depth_of_investigation_christiansen_2012(uncert)\n",
    "delta = sim.get_threshold(uncert)"
   ]
  },
  {
   "cell_type": "code",
   "execution_count": null,
   "metadata": {},
   "outputs": [],
   "source": [
    "print (doi, delta)"
   ]
  },
  {
   "cell_type": "code",
   "execution_count": null,
   "metadata": {},
   "outputs": [],
   "source": [
    "from SimPEG import regularization"
   ]
  },
  {
   "cell_type": "code",
   "execution_count": null,
   "metadata": {
    "scrolled": false
   },
   "outputs": [],
   "source": [
    "\n",
    "dmisfit = data_misfit.L2DataMisfit(dataObj, sim)\n",
    "dmisfit.W = 1./(abs(data_obj.dobs)*std+floor)\n",
    "\n",
    "reg = regularization.Sparse(\n",
    "    mesh1D, mapping=maps.IdentityMap(mesh1D)\n",
    ")\n",
    "p=0.\n",
    "qx, qz = 2., 2.\n",
    "reg.norms = np.c_[p, qx, qz, 0.]\n",
    "IRLS = directives.update_IRLS(\n",
    "    max_irls_iterations=20, minGNiter=1, fix_Jmatrix=True, coolingRate=2, \n",
    "    betaSearch=False,\n",
    "    chifact_start = 1.\n",
    ")\n",
    "opt = optimization.ProjectedGNCG(maxIter = 40)\n",
    "opt.maxIterLS = 5\n",
    "invProb = inverse_problem.BaseInvProblem(dmisfit, reg, opt)\n",
    "beta = directives.BetaSchedule(coolingFactor=2, coolingRate=2)\n",
    "betaest = directives.BetaEstimate_ByEig(beta0_ratio=1.)\n",
    "target = directives.TargetMisfit()\n",
    "sense = directives.UpdateSensitivityWeights(threshold=delta)\n",
    "# inv = Inversion.BaseInversion(invProb, directiveList=[beta,betaest,target])\n",
    "inv = inversion.BaseInversion(invProb, directiveList=[IRLS, betaest])\n",
    "\n",
    "opt.LSshorten = 0.5\n",
    "opt.remember('xc')\n",
    "mopt = inv.run(m0)"
   ]
  },
  {
   "cell_type": "code",
   "execution_count": null,
   "metadata": {},
   "outputs": [],
   "source": [
    "doi, act_ind = sim.depth_of_investigation_christiansen_2012(uncert)"
   ]
  },
  {
   "cell_type": "code",
   "execution_count": null,
   "metadata": {},
   "outputs": [],
   "source": [
    "print (doi)"
   ]
  },
  {
   "cell_type": "code",
   "execution_count": null,
   "metadata": {},
   "outputs": [],
   "source": [
    "%pylab inline\n",
    "fig, ax = subplots(1,1, figsize=(5, 8))\n",
    "Utils1D.plotLayer(sig, mesh1D, showlayers=False)\n",
    "Utils1D.plotLayer(expmap*mopt, mesh1D, showlayers=False, **{'color':'r'})\n",
    "Utils1D.plotLayer(expmap*invProb.l2model, mesh1D, showlayers=False, **{'color':'b', 'lw':1})"
   ]
  },
  {
   "cell_type": "code",
   "execution_count": null,
   "metadata": {},
   "outputs": [],
   "source": [
    "print (doi)"
   ]
  },
  {
   "cell_type": "code",
   "execution_count": null,
   "metadata": {},
   "outputs": [],
   "source": [
    "delta = prob.get_threshold(uncert)"
   ]
  },
  {
   "cell_type": "code",
   "execution_count": null,
   "metadata": {},
   "outputs": [],
   "source": [
    "print (delta)"
   ]
  },
  {
   "cell_type": "code",
   "execution_count": null,
   "metadata": {
    "scrolled": false
   },
   "outputs": [],
   "source": [
    "# !python run_em1d.py"
   ]
  },
  {
   "cell_type": "code",
   "execution_count": null,
   "metadata": {},
   "outputs": [],
   "source": [
    "fig, axes = subplots(1,1, figsize = (7,5))\n",
    "axes.plot(FDsurvey.frequency, -invProb.dpred[0:FDsurvey.n_frequency], 'k.-')\n",
    "axes.plot(FDsurvey.frequency, -invProb.dpred[FDsurvey.n_frequency:], 'b.-')\n",
    "axes.plot(FDsurvey.frequency, -FDsurvey.dobs[0:FDsurvey.n_frequency], 'ko')\n",
    "axes.plot(FDsurvey.frequency, -FDsurvey.dobs[FDsurvey.n_frequency:], 'bo')\n",
    "# axes.plot(FDsurvey.frequency, uncert[0:FDsurvey.n_frequency], 'k*')\n",
    "# axes.plot(FDsurvey.frequency, uncert[FDsurvey.n_frequency:], 'r*')\n",
    "axes.set_xscale('log')"
   ]
  },
  {
   "cell_type": "code",
   "execution_count": null,
   "metadata": {},
   "outputs": [],
   "source": [
    "from scipy.linalg.blas import cgemm\n",
    "import numpy as np"
   ]
  },
  {
   "cell_type": "code",
   "execution_count": null,
   "metadata": {},
   "outputs": [],
   "source": [
    "fig, ax = subplots(1,1, figsize=(5, 8))\n",
    "Utils1D.plotLayer(sig, mesh1D, showlayers=True)"
   ]
  }
 ],
 "metadata": {
  "kernelspec": {
   "display_name": "Python 3",
   "language": "python",
   "name": "python3"
  },
  "language_info": {
   "codemirror_mode": {
    "name": "ipython",
    "version": 3
   },
   "file_extension": ".py",
   "mimetype": "text/x-python",
   "name": "python",
   "nbconvert_exporter": "python",
   "pygments_lexer": "ipython3",
   "version": "3.7.4"
  }
 },
 "nbformat": 4,
 "nbformat_minor": 1
}
