{
 "cells": [
  {
   "cell_type": "code",
   "execution_count": 1,
   "metadata": {},
   "outputs": [
    {
     "name": "stdout",
     "output_type": "stream",
     "text": [
      "Populating the interactive namespace from numpy and matplotlib\n"
     ]
    }
   ],
   "source": [
    "from SimPEG import *\n",
    "from discretize import TensorMesh\n",
    "from simpegEM1D.simulation import EM1DFMSimulation\n",
    "from simpegEM1D.survey import EM1DSurveyFD\n",
    "from simpegEM1D.sources import *\n",
    "from simpegEM1D.receivers import *\n",
    "from simpegEM1D import analytics, Utils1D\n",
    "from simpegEM1D.EM1DSimulation import *\n",
    "from scipy.constants import mu_0\n",
    "import numpy as np\n",
    "%pylab inline"
   ]
  },
  {
   "cell_type": "code",
   "execution_count": 2,
   "metadata": {},
   "outputs": [],
   "source": [
    "rx_location = np.array([7.86, 0., 100.+30.])\n",
    "src_location = np.array([0., 0., 100.+30.])\n",
    "rx_location2 = np.array([7.86, 0., 100.+35.])\n",
    "src_location2 = np.array([0., 0., 100.+35.])\n",
    "\n",
    "frequency = np.array([382, 1822, 7970, 35920, 130100], dtype=float)\n",
    "I = 1.\n",
    "a = 1.\n",
    "field_type = \"ppm\"\n",
    "\n",
    "# Receiver list\n",
    "receiver_list = [\n",
    "    HarmonicPointReceiver(\n",
    "        rx_location, frequency, orientation=\"z\", field_type=field_type, component=\"real\"\n",
    "    )\n",
    "]\n",
    "receiver_list.append(\n",
    "    HarmonicPointReceiver(\n",
    "        rx_location, frequency, orientation=\"z\", field_type=field_type, component=\"imag\"\n",
    "    )\n",
    ")\n",
    "\n",
    "\n",
    "receiver_list2 = [\n",
    "    HarmonicPointReceiver(\n",
    "        rx_location2, frequency, orientation=\"z\", field_type=field_type, component=\"real\"\n",
    "    )\n",
    "]\n",
    "receiver_list2.append(\n",
    "    HarmonicPointReceiver(\n",
    "        rx_location2, frequency, orientation=\"z\", field_type=field_type, component=\"imag\"\n",
    "    )\n",
    ")\n",
    "\n",
    "\n",
    "# Sources\n",
    "source_list = [\n",
    "    HarmonicMagneticDipoleSource(\n",
    "        receiver_list=receiver_list, location=src_location, orientation=\"z\", I=I\n",
    "    )\n",
    "]\n",
    "\n",
    "source_list.append(\n",
    "    HarmonicMagneticDipoleSource(\n",
    "        receiver_list=receiver_list2, location=src_location2, orientation=\"z\", I=I\n",
    "    )\n",
    ")\n",
    "\n",
    "\n",
    "\n",
    "# source_list = [\n",
    "#     HarmonicHorizontalLoopSource(\n",
    "#         receiver_list=receiver_list, location=src_location, a=a, I=I\n",
    "#     )\n",
    "# ]\n",
    "\n",
    "# Survey\n",
    "FDsurvey = EM1DSurveyFD(source_list)\n",
    "nSrc = FDsurvey.nSrc"
   ]
  },
  {
   "cell_type": "code",
   "execution_count": 3,
   "metadata": {},
   "outputs": [],
   "source": [
    "sig_half = 1e-1\n",
    "sig_blk = 1e0\n",
    "\n",
    "hz = get_vertical_discretization_frequency(frequency, sigma_background=sig_half)\n",
    "mesh1D = set_mesh_1d(hz)\n",
    "depth = -mesh1D.gridN[:-1]\n",
    "LocSigZ = -mesh1D.gridCC\n",
    "nlay = depth.size\n",
    "topo = np.r_[0., 0., 100.]\n",
    "\n",
    "chi_half = 0.\n",
    "wires = maps.Wires(('sigma', mesh1D.nC),('h', nSrc))\n",
    "expmap = maps.ExpMap(mesh1D)\n",
    "# expmap_h = Maps.ExpMap(nP=1)\n",
    "sigmaMap = expmap * wires.sigma\n",
    "# hMap = expmap_h*wires.h\n",
    "sig  = np.ones(mesh1D.nC)*sig_half\n",
    "blk_ind = (-20>LocSigZ) & (-40<LocSigZ)\n",
    "sig[blk_ind] = sig_blk\n",
    "if nSrc == 1:\n",
    "    h_true = src_location[2] - topo[2]\n",
    "    m_true = np.r_[np.log(sig), h_true]\n",
    "    m_true_dh = np.r_[np.log(sig), h_true + 5.]\n",
    "else:\n",
    "    h_true = np.r_[src_location[2], src_location2[2]] - topo[2]\n",
    "    m_true = np.r_[np.log(sig), h_true]\n",
    "    m_true_dh = np.r_[np.log(sig), h_true + 5.]\n",
    "        \n"
   ]
  },
  {
   "cell_type": "code",
   "execution_count": 4,
   "metadata": {},
   "outputs": [
    {
     "data": {
      "text/plain": [
       "[<matplotlib.lines.Line2D at 0x27e27936988>]"
      ]
     },
     "execution_count": 4,
     "metadata": {},
     "output_type": "execute_result"
    },
    {
     "data": {
      "image/png": "[encoded data removed]",
      "text/plain": [
       "<Figure size 360x576 with 1 Axes>"
      ]
     },
     "metadata": {
      "needs_background": "light"
     },
     "output_type": "display_data"
    }
   ],
   "source": [
    "fig, ax = subplots(1,1, figsize=(5, 8))\n",
    "Utils1D.plotLayer(sig, mesh1D, showlayers=False)"
   ]
  },
  {
   "cell_type": "code",
   "execution_count": 5,
   "metadata": {
    "scrolled": false
   },
   "outputs": [
    {
     "ename": "ValueError",
     "evalue": "operands could not be broadcast together with shapes (19,5) (20,5) ",
     "output_type": "error",
     "traceback": [
      "\u001b[1;31m---------------------------------------------------------------------------\u001b[0m",
      "\u001b[1;31mValueError\u001b[0m                                Traceback (most recent call last)",
      "\u001b[1;32m<ipython-input-5-9ca878a5db8c>\u001b[0m in \u001b[0;36m<module>\u001b[1;34m\u001b[0m\n\u001b[0;32m      4\u001b[0m )\n\u001b[0;32m      5\u001b[0m \u001b[1;33m\u001b[0m\u001b[0m\n\u001b[1;32m----> 6\u001b[1;33m \u001b[0md_true\u001b[0m \u001b[1;33m=\u001b[0m \u001b[0msim\u001b[0m\u001b[1;33m.\u001b[0m\u001b[0mdpred\u001b[0m\u001b[1;33m(\u001b[0m\u001b[0mm_true\u001b[0m\u001b[1;33m)\u001b[0m\u001b[1;33m\u001b[0m\u001b[1;33m\u001b[0m\u001b[0m\n\u001b[0m\u001b[0;32m      7\u001b[0m \u001b[1;31m# d_p = FDsurvey.dpred(m_dx_p)\u001b[0m\u001b[1;33m\u001b[0m\u001b[1;33m\u001b[0m\u001b[1;33m\u001b[0m\u001b[0m\n\u001b[0;32m      8\u001b[0m \u001b[1;31m# d_n = FDsurvey.dpred(m_dx_n)\u001b[0m\u001b[1;33m\u001b[0m\u001b[1;33m\u001b[0m\u001b[1;33m\u001b[0m\u001b[0m\n",
      "\u001b[1;32mD:\\Documents\\Repositories\\simpegEM1D\\simpegEM1D\\simulation.py\u001b[0m in \u001b[0;36mdpred\u001b[1;34m(self, m, f)\u001b[0m\n\u001b[0;32m    396\u001b[0m             \u001b[1;32mif\u001b[0m \u001b[0mm\u001b[0m \u001b[1;32mis\u001b[0m \u001b[1;32mNone\u001b[0m\u001b[1;33m:\u001b[0m\u001b[1;33m\u001b[0m\u001b[1;33m\u001b[0m\u001b[0m\n\u001b[0;32m    397\u001b[0m                 \u001b[0mm\u001b[0m \u001b[1;33m=\u001b[0m \u001b[0mself\u001b[0m\u001b[1;33m.\u001b[0m\u001b[0mmodel\u001b[0m\u001b[1;33m\u001b[0m\u001b[1;33m\u001b[0m\u001b[0m\n\u001b[1;32m--> 398\u001b[1;33m             \u001b[0mf\u001b[0m \u001b[1;33m=\u001b[0m \u001b[0mself\u001b[0m\u001b[1;33m.\u001b[0m\u001b[0mfields\u001b[0m\u001b[1;33m(\u001b[0m\u001b[0mm\u001b[0m\u001b[1;33m)\u001b[0m\u001b[1;33m\u001b[0m\u001b[1;33m\u001b[0m\u001b[0m\n\u001b[0m\u001b[0;32m    399\u001b[0m \u001b[1;33m\u001b[0m\u001b[0m\n\u001b[0;32m    400\u001b[0m         \u001b[1;32mreturn\u001b[0m \u001b[0mf\u001b[0m\u001b[1;33m\u001b[0m\u001b[1;33m\u001b[0m\u001b[0m\n",
      "\u001b[1;32mD:\\Documents\\Repositories\\simpegEM1D\\simpegEM1D\\simulation.py\u001b[0m in \u001b[0;36mfields\u001b[1;34m(self, m)\u001b[0m\n\u001b[0;32m    378\u001b[0m \u001b[1;33m\u001b[0m\u001b[0m\n\u001b[0;32m    379\u001b[0m     \u001b[1;32mdef\u001b[0m \u001b[0mfields\u001b[0m\u001b[1;33m(\u001b[0m\u001b[0mself\u001b[0m\u001b[1;33m,\u001b[0m \u001b[0mm\u001b[0m\u001b[1;33m)\u001b[0m\u001b[1;33m:\u001b[0m\u001b[1;33m\u001b[0m\u001b[1;33m\u001b[0m\u001b[0m\n\u001b[1;32m--> 380\u001b[1;33m         \u001b[0mf\u001b[0m \u001b[1;33m=\u001b[0m \u001b[0mself\u001b[0m\u001b[1;33m.\u001b[0m\u001b[0mcompute_integral\u001b[0m\u001b[1;33m(\u001b[0m\u001b[0mm\u001b[0m\u001b[1;33m,\u001b[0m \u001b[0moutput_type\u001b[0m\u001b[1;33m=\u001b[0m\u001b[1;34m'response'\u001b[0m\u001b[1;33m)\u001b[0m\u001b[1;33m\u001b[0m\u001b[1;33m\u001b[0m\u001b[0m\n\u001b[0m\u001b[0;32m    381\u001b[0m         \u001b[0mf\u001b[0m \u001b[1;33m=\u001b[0m \u001b[0mself\u001b[0m\u001b[1;33m.\u001b[0m\u001b[0mprojectFields\u001b[0m\u001b[1;33m(\u001b[0m\u001b[0mf\u001b[0m\u001b[1;33m)\u001b[0m\u001b[1;33m\u001b[0m\u001b[1;33m\u001b[0m\u001b[0m\n\u001b[0;32m    382\u001b[0m         \u001b[1;32mreturn\u001b[0m \u001b[0mnp\u001b[0m\u001b[1;33m.\u001b[0m\u001b[0mhstack\u001b[0m\u001b[1;33m(\u001b[0m\u001b[0mf\u001b[0m\u001b[1;33m)\u001b[0m\u001b[1;33m\u001b[0m\u001b[1;33m\u001b[0m\u001b[0m\n",
      "\u001b[1;32mD:\\Documents\\Repositories\\simpegEM1D\\simpegEM1D\\simulation.py\u001b[0m in \u001b[0;36mcompute_integral\u001b[1;34m(self, m, output_type)\u001b[0m\n\u001b[0;32m    245\u001b[0m \u001b[1;33m\u001b[0m\u001b[0m\n\u001b[0;32m    246\u001b[0m                 \u001b[1;31m# Create globally, not for each receiver\u001b[0m\u001b[1;33m\u001b[0m\u001b[1;33m\u001b[0m\u001b[1;33m\u001b[0m\u001b[0m\n\u001b[1;32m--> 247\u001b[1;33m                 \u001b[0msig\u001b[0m \u001b[1;33m=\u001b[0m \u001b[0mself\u001b[0m\u001b[1;33m.\u001b[0m\u001b[0msigma_cole\u001b[0m\u001b[1;33m(\u001b[0m\u001b[0mrx\u001b[0m\u001b[1;33m.\u001b[0m\u001b[0mfrequencies\u001b[0m\u001b[1;33m)\u001b[0m\u001b[1;33m\u001b[0m\u001b[1;33m\u001b[0m\u001b[0m\n\u001b[0m\u001b[0;32m    248\u001b[0m \u001b[1;33m\u001b[0m\u001b[0m\n\u001b[0;32m    249\u001b[0m                 \u001b[1;32mif\u001b[0m \u001b[0misinstance\u001b[0m\u001b[1;33m(\u001b[0m\u001b[0msrc\u001b[0m\u001b[1;33m,\u001b[0m \u001b[0mHarmonicMagneticDipoleSource\u001b[0m\u001b[1;33m)\u001b[0m \u001b[1;33m|\u001b[0m \u001b[0misinstance\u001b[0m\u001b[1;33m(\u001b[0m\u001b[0msrc\u001b[0m\u001b[1;33m,\u001b[0m \u001b[0mTimeDomainMagneticDipoleSource\u001b[0m\u001b[1;33m)\u001b[0m\u001b[1;33m:\u001b[0m\u001b[1;33m\u001b[0m\u001b[1;33m\u001b[0m\u001b[0m\n",
      "\u001b[1;32mD:\\Documents\\Repositories\\simpegEM1D\\simpegEM1D\\simulation.py\u001b[0m in \u001b[0;36msigma_cole\u001b[1;34m(self, frequencies)\u001b[0m\n\u001b[0;32m    174\u001b[0m         sigma_complex[:, :] = (\n\u001b[0;32m    175\u001b[0m             \u001b[0msigma\u001b[0m \u001b[1;33m-\u001b[0m\u001b[1;33m\u001b[0m\u001b[1;33m\u001b[0m\u001b[0m\n\u001b[1;32m--> 176\u001b[1;33m             \u001b[0msigma\u001b[0m\u001b[1;33m*\u001b[0m\u001b[0meta\u001b[0m\u001b[1;33m/\u001b[0m\u001b[1;33m(\u001b[0m\u001b[1;36m1\u001b[0m\u001b[1;33m+\u001b[0m\u001b[1;33m(\u001b[0m\u001b[1;36m1\u001b[0m\u001b[1;33m-\u001b[0m\u001b[0meta\u001b[0m\u001b[1;33m)\u001b[0m\u001b[1;33m*\u001b[0m\u001b[1;33m(\u001b[0m\u001b[1;36m1j\u001b[0m\u001b[1;33m*\u001b[0m\u001b[0mw\u001b[0m\u001b[1;33m*\u001b[0m\u001b[0mtau\u001b[0m\u001b[1;33m)\u001b[0m\u001b[1;33m**\u001b[0m\u001b[0mc\u001b[0m\u001b[1;33m)\u001b[0m\u001b[1;33m\u001b[0m\u001b[1;33m\u001b[0m\u001b[0m\n\u001b[0m\u001b[0;32m    177\u001b[0m         )\n\u001b[0;32m    178\u001b[0m \u001b[1;33m\u001b[0m\u001b[0m\n",
      "\u001b[1;31mValueError\u001b[0m: operands could not be broadcast together with shapes (19,5) (20,5) "
     ]
    }
   ],
   "source": [
    "sim = EM1DFMSimulation(\n",
    "    survey=FDsurvey, thicknesses=hz, sigmaMap=sigmaMap, hMap=wires.h,\n",
    "    chi= np.zeros(nlay)\n",
    ")\n",
    "  \n",
    "d_true = sim.dpred(m_true)\n",
    "# d_p = FDsurvey.dpred(m_dx_p)\n",
    "# d_n = FDsurvey.dpred(m_dx_n)\n",
    "d_dh = sim.dpred(m_true_dh)\n",
    "# J_h_diff = (d_p-d_n) / (dh)\n",
    "# plt.plot(J_h_diff, 'k')\n",
    "# plt.plot(prob.getJ_height(m_true), 'bx')"
   ]
  },
  {
   "cell_type": "code",
   "execution_count": null,
   "metadata": {},
   "outputs": [],
   "source": [
    "fig, axes = plt.subplots(1,1, figsize = (7,5))\n",
    "if nSrc == 1:\n",
    "    axes.plot(frequency, d_true[0:len(frequency)], 'k.-')\n",
    "    axes.plot(frequency, d_true[len(frequency):], 'b.-')\n",
    "    axes.plot(frequency, d_dh[0:len(frequency)], 'kx')\n",
    "    axes.plot(frequency, d_dh[len(frequency):], 'bx')\n",
    "else:\n",
    "    axes.plot(frequency, d_true[0:len(frequency)], 'k.-')\n",
    "    axes.plot(frequency, d_true[len(frequency):2*len(frequency)], 'b.-')\n",
    "    axes.plot(frequency, d_dh[0:len(frequency)], 'kx')\n",
    "    axes.plot(frequency, d_dh[len(frequency):2*len(frequency)], 'bx')\n",
    "        \n",
    "axes.set_xscale('log')"
   ]
  },
  {
   "cell_type": "code",
   "execution_count": null,
   "metadata": {},
   "outputs": [],
   "source": [
    "from SimPEG import regularization, data"
   ]
  },
  {
   "cell_type": "code",
   "execution_count": null,
   "metadata": {},
   "outputs": [],
   "source": [
    "std = 0.07\n",
    "floor = 0.\n",
    "np.random.seed(1)\n",
    "uncert = std*abs(d_true)+floor\n",
    "noise = std*np.abs(d_true)*np.random.randn(len(d_true))\n",
    "d_obs = d_true + noise\n",
    "dataObj = data.Data(FDsurvey, dobs=d_obs, noise_floor=uncert)\n",
    "\n",
    "dmisfit = data_misfit.L2DataMisfit(dataObj, sim)\n",
    "dmisfit.W = utils.sdiag(1/uncert)\n"
   ]
  },
  {
   "cell_type": "code",
   "execution_count": null,
   "metadata": {
    "scrolled": false
   },
   "outputs": [],
   "source": [
    "m0 = np.r_[np.log(np.ones_like(sig)*sig_half), 45.*np.ones(nSrc)]\n",
    "\n",
    "reg_sigma = regularization.Sparse(\n",
    "    mesh1D, mapping=wires.sigma, cell_weights=mesh1D.vol,\n",
    "    alpha_s = 0.01\n",
    ")\n",
    "p=0.\n",
    "qx, qz = 1., 1.\n",
    "reg_sigma.norms = np.c_[p, qx, qz, 0.]\n",
    "IRLS = directives.Update_IRLS(\n",
    "    max_irls_iterations=20, minGNiter=1, fix_Jmatrix=True, coolingRate=2, \n",
    "    beta_tol=1e-2,\n",
    "    chifact_start = 1.\n",
    ")\n",
    "\n",
    "mesh_h = TensorMesh([np.ones(nSrc)])\n",
    "reg_h = regularization.Sparse(\n",
    "    mesh_h, mapping=wires.h, \n",
    "    alpha_s = 1.\n",
    ")\n",
    "reg = reg_sigma + reg_h\n",
    "opt = optimization.ProjectedGNCG(maxIter = 40)\n",
    "opt.maxIterLS = 5\n",
    "invProb = inverse_problem.BaseInvProblem(dmisfit, reg, opt)\n",
    "beta = directives.BetaSchedule(coolingFactor=2, coolingRate=2)\n",
    "betaest = directives.BetaEstimate_ByEig(beta0_ratio=1.)\n",
    "target = directives.TargetMisfit()\n",
    "update_sense = directives.UpdateSensitivityWeights()\n",
    "inv = inversion.BaseInversion(invProb, directiveList=[beta,betaest,target])\n",
    "# inv = Inversion.BaseInversion(invProb, directiveList=[IRLS, betaest])\n",
    "# inv = Inversion.BaseInversion(invProb, directiveList=[IRLS])\n",
    "\n",
    "# prob.counter = opt.counter = utils.Counter()\n",
    "opt.LSshorten = 0.5\n",
    "opt.remember('xc')\n"
   ]
  },
  {
   "cell_type": "code",
   "execution_count": null,
   "metadata": {},
   "outputs": [],
   "source": [
    "print(np.shape(sim.getJ_sigma(m0)))\n",
    "print(np.shape(sim.getJ_height(m0)))\n",
    "print(sim.getJ_height(m0))"
   ]
  },
  {
   "cell_type": "code",
   "execution_count": null,
   "metadata": {},
   "outputs": [],
   "source": [
    "mopt = inv.run(m0)"
   ]
  },
  {
   "cell_type": "code",
   "execution_count": null,
   "metadata": {},
   "outputs": [],
   "source": [
    "print (wires.h*m0)\n",
    "print (wires.h*mopt)\n",
    "print (sim.h)"
   ]
  },
  {
   "cell_type": "code",
   "execution_count": null,
   "metadata": {},
   "outputs": [],
   "source": [
    "%pylab inline\n",
    "fig, ax = subplots(1,1, figsize=(5, 8))\n",
    "Utils1D.plotLayer(sig, mesh1D, showlayers=False)\n",
    "Utils1D.plotLayer(sigmaMap*mopt, mesh1D, showlayers=True, **{'color':'r'})\n",
    "# Utils1D.plotLayer(sigmaMap*invProb.l2model, LocSigZ, showlayers=True,**{'color':'g'})"
   ]
  },
  {
   "cell_type": "code",
   "execution_count": null,
   "metadata": {},
   "outputs": [],
   "source": [
    "fig, axes = subplots(1,1, figsize = (7,5))\n",
    "if nSrc == 1:\n",
    "    axes.plot(frequency, d_true[0:len(frequency)], 'k.-')\n",
    "    axes.plot(frequency, d_true[len(frequency):], 'b.-')\n",
    "    axes.plot(frequency, d_obs[0:len(frequency)], 'kx')\n",
    "    axes.plot(frequency, d_obs[len(frequency):], 'bx')\n",
    "else:\n",
    "    axes.plot(frequency, d_true[0:len(frequency)], 'k.-')\n",
    "    axes.plot(frequency, d_true[len(frequency):2*len(frequency)], 'b.-')\n",
    "    axes.plot(frequency, d_obs[0:len(frequency)], 'kx')\n",
    "    axes.plot(frequency, d_obs[len(frequency):2*len(frequency)], 'bx')\n",
    "axes.set_xscale('log')\n",
    "axes.set_xlabel"
   ]
  },
  {
   "cell_type": "code",
   "execution_count": null,
   "metadata": {},
   "outputs": [],
   "source": []
  }
 ],
 "metadata": {
  "kernelspec": {
   "display_name": "Python 3",
   "language": "python",
   "name": "python3"
  },
  "language_info": {
   "codemirror_mode": {
    "name": "ipython",
    "version": 3
   },
   "file_extension": ".py",
   "mimetype": "text/x-python",
   "name": "python",
   "nbconvert_exporter": "python",
   "pygments_lexer": "ipython3",
   "version": "3.7.4"
  }
 },
 "nbformat": 4,
 "nbformat_minor": 1
}
