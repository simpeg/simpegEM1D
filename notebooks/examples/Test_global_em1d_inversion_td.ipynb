{
 "cells": [
  {
   "cell_type": "code",
   "execution_count": null,
   "metadata": {},
   "outputs": [],
   "source": [
    "from discretize import TensorMesh\n",
    "from SimPEG import maps, data\n",
    "import numpy as np\n",
    "from matplotlib.colors import LogNorm\n",
    "from simpegEM1D import (\n",
    "    GlobalEM1DSimulationTD, GlobalEM1DSurveyTD, get_vertical_discretization_time, EM1DSurveyTD\n",
    ")\n",
    "from pymatsolver import PardisoSolver\n",
    "%pylab inline"
   ]
  },
  {
   "cell_type": "markdown",
   "metadata": {},
   "source": [
    "# Seting up a 2D mesh and model"
   ]
  },
  {
   "cell_type": "code",
   "execution_count": null,
   "metadata": {},
   "outputs": [],
   "source": [
    "from simpegEM1D import skytem_HM_2015\n",
    "wave = skytem_HM_2015()\n",
    "time = np.logspace(-5, -2, 21)\n",
    "# hz = get_vertical_discretization_time(time, facter_tmax=0.5, factor_tmin=10.)\n",
    "hz = 1*np.arange(30)**1.1\n",
    "time_input_currents = wave.current_times[-7:]\n",
    "input_currents = wave.currents[-7:]\n",
    "from scipy.spatial import Delaunay\n",
    "def PolygonInd(mesh, pts):\n",
    "    hull = Delaunay(pts)\n",
    "    inds = hull.find_simplex(mesh.gridCC)>=0\n",
    "    return inds\n",
    "n_sounding = 10\n",
    "dx = 100.\n",
    "hx = np.ones(n_sounding) * dx\n",
    "mesh = TensorMesh([hx, hz], x0='00')\n",
    "inds =  mesh.gridCC[:,1]<25\n",
    "sigma = np.ones(mesh.nC) * 1./20.\n",
    "sigma[inds] = 1./20.\n",
    "x0 = np.r_[0., 75.]\n",
    "x1 = np.r_[dx*n_sounding, 75.]\n",
    "x2 = np.r_[dx*n_sounding, 90.]\n",
    "x3 = np.r_[0., 200.]\n",
    "pts = np.vstack((x0, x1, x2, x3, x0))\n",
    "poly_inds = PolygonInd(mesh, pts)\n",
    "sigma[poly_inds] = 1./50.\n",
    "sigma_em1d = sigma.reshape(mesh.vnC, order='F').flatten()\n",
    "cb = plt.colorbar(\n",
    "    mesh.plotImage(1./sigma, grid=False, clim=(10, 50),pcolorOpts={\"norm\":LogNorm()})[0],\n",
    "    fraction=0.03, pad=0.04\n",
    ")\n",
    "\n",
    "plt.ylim(mesh.vectorNy.max(), mesh.vectorNy.min())\n",
    "plt.gca().set_aspect(1)"
   ]
  },
  {
   "cell_type": "code",
   "execution_count": null,
   "metadata": {},
   "outputs": [],
   "source": [
    "from SimPEG import (\n",
    "    regularization, directives, inversion, inverse_problem, optimization, data_misfit, utils\n",
    ")\n",
    "from simpegEM1D import get_2d_mesh, LateralConstraint"
   ]
  },
  {
   "cell_type": "code",
   "execution_count": null,
   "metadata": {},
   "outputs": [],
   "source": [
    "x = mesh.vectorCCx\n",
    "y = np.zeros_like(x)\n",
    "z = np.ones_like(x) * 30.\n",
    "rx_locations = np.c_[x, y, z]\n",
    "src_locations = np.c_[x, y, z]\n",
    "topo = np.c_[x, y, z-30.].astype(float)\n",
    "\n",
    "mapping = maps.ExpMap(mesh)\n",
    "\n",
    "survey = GlobalEM1DSurveyTD(\n",
    "    rx_locations = rx_locations,\n",
    "    src_locations = src_locations,    \n",
    "    topo = topo,\n",
    "    time = [time for i in range(n_sounding)],\n",
    "    src_type = np.array([\"CircularLoop\"], dtype=str).repeat(n_sounding),\n",
    "    rx_type = np.array([\"dBzdt\"], dtype=str).repeat(n_sounding),    \n",
    "    wave_type = np.array([\"stepoff\"], dtype=str).repeat(n_sounding),    \n",
    "    field_type = np.array([\"secondary\"], dtype=str).repeat(n_sounding),    \n",
    "    a = np.array([13.]).repeat(n_sounding),\n",
    "    input_currents=[input_currents for i in range(n_sounding)],\n",
    "    time_input_currents=[time_input_currents for i in range(n_sounding)],\n",
    "    base_frequency = np.array([20.]).repeat(n_sounding),\n",
    ")\n",
    "\n",
    "sim = GlobalEM1DSimulationTD(\n",
    "    mesh, sigmaMap=mapping, survey=survey, hz=hz, parallel=False, n_cpu=2,\n",
    "    Solver=PardisoSolver\n",
    ")\n",
    "\n",
    "m = np.log(sigma_em1d)\n",
    "d_true = sim.dpred(m)"
   ]
  },
  {
   "cell_type": "code",
   "execution_count": null,
   "metadata": {},
   "outputs": [],
   "source": [
    "DOBS = d_true.reshape(( sim.n_sounding, time.size))\n",
    "for i_time in range(time.size):\n",
    "    plt.semilogy(mesh.vectorCCx, -DOBS[:,i_time], 'k')"
   ]
  },
  {
   "cell_type": "code",
   "execution_count": null,
   "metadata": {},
   "outputs": [],
   "source": [
    "mesh_reg = get_2d_mesh(n_sounding, hz)\n",
    "regmap = maps.IdentityMap(mesh_reg)\n",
    "# mapping is required ... for IRLS\n",
    "reg = LateralConstraint(\n",
    "    mesh_reg, mapping=regmap,\n",
    "    alpha_s = 1.,\n",
    "    alpha_x = 1.,\n",
    "    alpha_y = 1,    \n",
    ")\n",
    "xy = utils.ndgrid(np.arange(n_sounding), np.r_[0.])\n",
    "reg.get_grad_horizontal(xy, hz, dim=2)"
   ]
  },
  {
   "cell_type": "code",
   "execution_count": null,
   "metadata": {},
   "outputs": [],
   "source": [
    "std = 0.03\n",
    "floor = 0.\n",
    "std = 0.03\n",
    "floor = 0.\n",
    "np.random.seed(1)\n",
    "uncert = std*abs(d_true)+floor\n",
    "noise = std*np.abs(d_true)*np.random.randn(len(d_true))\n",
    "d_obs = d_true + noise\n",
    "\n",
    "dataObj = data.Data(survey, dobs=d_obs, noise_floor=uncert)\n",
    "\n",
    "m0 = np.ones(mesh.nC) * np.log(1./20.)\n",
    "dmisfit = data_misfit.L2DataMisfit(dataObj, sim)\n",
    "dmisfit.W = 1./uncert\n",
    "# p = 0\n",
    "# qx, qz = 1., 1.\n",
    "# reg.norms = np.c_[p, qx, qz, 0.]\n",
    "# IRLS = Directives.Update_IRLS(\n",
    "#     maxIRLSiter=5, minGNiter=1, fix_Jmatrix=True,\n",
    "#     betaSearch=False\n",
    "# )\n",
    "opt = optimization.InexactGaussNewton(maxIter = 30)\n",
    "invProb = inverse_problem.BaseInvProblem(dmisfit, reg, opt)\n",
    "beta = directives.BetaSchedule(coolingFactor=2, coolingRate=1)\n",
    "betaest = directives.BetaEstimate_ByEig(beta0_ratio=1.)\n",
    "target = directives.TargetMisfit()\n",
    "inv = inversion.BaseInversion(invProb, directiveList=[beta,betaest,target])\n",
    "# inv = Inversion.BaseInversion(invProb, directiveList=[IRLS,betaest])\n",
    "# prob.counter = opt.counter = Utils.Counter()\n",
    "opt.LSshorten = 0.5\n",
    "opt.remember('xc')\n",
    "mopt = inv.run(m0)"
   ]
  },
  {
   "cell_type": "code",
   "execution_count": null,
   "metadata": {},
   "outputs": [],
   "source": [
    "sigma_est = utils.mkvc((np.exp(mopt)).reshape((sim.n_sounding, sim.n_layer)))\n",
    "# sigma_est_l2 = Utils.mkvc((np.exp(invProb.l2model)).reshape((prob.n_sounding, prob.n_layer)))"
   ]
  },
  {
   "cell_type": "code",
   "execution_count": null,
   "metadata": {},
   "outputs": [],
   "source": [
    "import matplotlib\n",
    "matplotlib.rcParams['font.size'] = 14"
   ]
  },
  {
   "cell_type": "code",
   "execution_count": null,
   "metadata": {},
   "outputs": [],
   "source": [
    "cb = plt.colorbar(\n",
    "    mesh.plotImage(\n",
    "        1./sigma, grid=True, clim=(10, 50),pcolorOpts={\"norm\":LogNorm()},\n",
    "        gridOpts={'alpha':0.2, 'color':'grey'}\n",
    "    )[0],\n",
    "    fraction=0.02, pad=0.04\n",
    ")\n",
    "\n",
    "plt.ylim(mesh.vectorNy.max(), mesh.vectorNy.min())\n",
    "plt.gca().set_aspect(1)\n",
    "\n",
    "plt.title(\"True model\")\n",
    "\n",
    "\n",
    "cb = plt.colorbar(\n",
    "    mesh.plotImage(\n",
    "        1./sigma_est, grid=True, clim=(10, 50), pcolorOpts={\"norm\":LogNorm()},\n",
    "        gridOpts={'alpha':0.2, 'color':'grey'}\n",
    "    )[0],\n",
    "    fraction=0.02, pad=0.04\n",
    ")\n",
    "plt.ylim(mesh.vectorNy.max(), mesh.vectorNy.min())\n",
    "plt.gca().set_aspect(1)\n",
    "plt.title(\"Laterally-contrained model: L0 L2\")"
   ]
  },
  {
   "cell_type": "code",
   "execution_count": null,
   "metadata": {},
   "outputs": [],
   "source": [
    "# survey.n_time"
   ]
  },
  {
   "cell_type": "code",
   "execution_count": null,
   "metadata": {},
   "outputs": [],
   "source": [
    "n_time = time.size\n",
    "PRED = invProb.dpred.reshape((sim.n_sounding, n_time))"
   ]
  },
  {
   "cell_type": "code",
   "execution_count": null,
   "metadata": {},
   "outputs": [],
   "source": [
    "for i_time in range(n_time):\n",
    "    plt.semilogy(mesh.vectorCCx, -DOBS[:,i_time], 'k')\n",
    "    plt.semilogy(mesh.vectorCCx, -PRED[:,i_time], 'kx', ms=1)"
   ]
  },
  {
   "cell_type": "code",
   "execution_count": null,
   "metadata": {},
   "outputs": [],
   "source": [
    "J_sigma = sim.getJ_sigma(m)\n",
    "J = J_sigma"
   ]
  },
  {
   "cell_type": "code",
   "execution_count": null,
   "metadata": {},
   "outputs": [],
   "source": [
    "from pymatsolver import Pardiso"
   ]
  },
  {
   "cell_type": "code",
   "execution_count": null,
   "metadata": {},
   "outputs": [],
   "source": [
    "reg = LateralConstraint(\n",
    "    mesh_reg, mapping=regmap,\n",
    "    alpha_s=0.,\n",
    "    alpha_x = 1.,\n",
    "    alpha_y = 1.,    \n",
    ")\n",
    "xy = utils.ndgrid(np.arange(n_sounding), np.r_[0.])\n",
    "reg.get_grad_horizontal(xy, hz, dim=2)"
   ]
  },
  {
   "cell_type": "code",
   "execution_count": null,
   "metadata": {},
   "outputs": [],
   "source": [
    "betaest.initialize()"
   ]
  },
  {
   "cell_type": "code",
   "execution_count": null,
   "metadata": {},
   "outputs": [],
   "source": [
    "betaest.beta0 "
   ]
  },
  {
   "cell_type": "code",
   "execution_count": null,
   "metadata": {},
   "outputs": [],
   "source": [
    "n_sample = 100\n",
    "Wd = dmisfit.W\n",
    "beta_post = betaest.beta0 * 0.01\n",
    "Hd = J.T.dot((Wd.T*(Wd*J)))\n",
    "Hm = reg.W.T*reg.W\n",
    "H = Hd + beta_post * Hm\n",
    "# L = np.linalg.cholesky(H)\n",
    "Hinv = Pardiso(H, is_symmetric=True, is_positive_definite=True)\n",
    "Hinv.factor()\n",
    "rhs = np.random.randn(H.shape[0], n_sample)\n",
    "x = Hinv.solver.run_pardiso(333, rhs=rhs)"
   ]
  },
  {
   "cell_type": "code",
   "execution_count": null,
   "metadata": {},
   "outputs": [],
   "source": [
    "x_tmp = np.random.rand(mopt.size)\n",
    "Wd = dmisfit.W\n",
    "beta_0 = np.linalg.norm(Wd*(J*x_tmp))**2 / np.linalg.norm((reg.W*x_tmp))**2"
   ]
  },
  {
   "cell_type": "code",
   "execution_count": null,
   "metadata": {},
   "outputs": [],
   "source": [
    "fig = plt.figure(figsize=(10, 5))\n",
    "ax1 = plt.subplot(121)\n",
    "ax2 = plt.subplot(122)\n",
    "ii = 2\n",
    "sigma_est = utils.mkvc((np.exp(mopt)).reshape((sim.n_sounding, sim.n_layer)))\n",
    "cb = plt.colorbar(\n",
    "    mesh.plotImage(\n",
    "        1./sigma_est, grid=True, clim=(20, 50),pcolorOpts={\"norm\":LogNorm()},\n",
    "        gridOpts={'alpha':0.2, 'color':'grey'}, ax=ax1\n",
    "    )[0],\n",
    "    fraction=0.02, pad=0.04, ax=ax1\n",
    ")\n",
    "sigma_est = utils.mkvc((np.exp(mopt+x[:,ii])).reshape((sim.n_sounding, sim.n_layer)))\n",
    "cb = plt.colorbar(\n",
    "    mesh.plotImage(\n",
    "        1./sigma_est, grid=True, clim=(20, 50),pcolorOpts={\"norm\":LogNorm()},\n",
    "        gridOpts={'alpha':0.2, 'color':'grey'}, ax=ax2\n",
    "    )[0],\n",
    "    fraction=0.02, pad=0.04, ax=ax2\n",
    ")\n",
    "for ax in [ax1, ax2]:\n",
    "    ax.set_ylim(mesh.vectorNy.max(), mesh.vectorNy.min())\n",
    "    ax.set_aspect(1)\n",
    "plt.tight_layout()"
   ]
  },
  {
   "cell_type": "code",
   "execution_count": null,
   "metadata": {},
   "outputs": [],
   "source": [
    "from simpegEM1D import set_mesh_1d, plotLayer\n",
    "mesh_1d = set_mesh_1d(hz)"
   ]
  },
  {
   "cell_type": "code",
   "execution_count": null,
   "metadata": {},
   "outputs": [],
   "source": [
    "ii=1\n",
    "n_samples = [3, 5, 20, 50, 80, 100, 200, 300, 400, 500, 600, 700, 1000, 10000]\n",
    "lows = []\n",
    "highs = []\n",
    "perc_low = 2.1\n",
    "for n_sample in n_samples:\n",
    "    rhs = np.random.randn(H.shape[0], n_sample)\n",
    "    x = Hinv.solver.run_pardiso(333, rhs=rhs)\n",
    "    ind_start = ii*hz.size\n",
    "    ind_end = ii*hz.size + hz.size\n",
    "    tmp = mopt[ind_start:ind_end, np.newaxis] + x[ind_start:ind_end,:]\n",
    "    low = np.percentile(tmp, perc_low, axis=1)\n",
    "    high = np.percentile(tmp, 100-perc_low, axis=1)\n",
    "    lows.append(low)\n",
    "    highs.append(high)\n",
    "# for jj in range(len(n_samples)):\n",
    "jj = 12\n",
    "print (n_samples[jj])\n",
    "plotLayer(1./np.exp(lows[jj]), mesh_1d,  **{'color':'b', 'lw':1})\n",
    "plotLayer(1./np.exp(highs[jj]), mesh_1d, **{'color':'b', 'lw':1})\n",
    "\n",
    "plotLayer(1./np.exp(lows[len(n_samples)-1]), mesh_1d,  **{'color':'g', 'lw':1})\n",
    "plotLayer(1./np.exp(highs[len(n_samples)-1]), mesh_1d, **{'color':'g', 'lw':1})\n",
    "plotLayer(\n",
    "    1./np.exp(mopt[ind_start:ind_end, np.newaxis]), \n",
    "    mesh_1d, showlayers=False,**{'color':'r', 'lw':2}\n",
    ")\n",
    "plt.xlim(2, 200)\n",
    "# 500 samples    "
   ]
  },
  {
   "cell_type": "code",
   "execution_count": null,
   "metadata": {},
   "outputs": [],
   "source": [
    "ii = 12\n",
    "dpred = sim.dpred(mopt+x[:,ii])\n",
    "n_time = time.size\n",
    "PRED = dpred.reshape((sim.n_sounding, n_time))\n",
    "\n",
    "for i_time in range(n_time):\n",
    "    plt.semilogy(mesh.vectorCCx, -DOBS[:,i_time], 'k')\n",
    "    plt.semilogy(mesh.vectorCCx, -PRED[:,i_time], 'k--', ms=5)"
   ]
  },
  {
   "cell_type": "code",
   "execution_count": null,
   "metadata": {},
   "outputs": [],
   "source": []
  }
 ],
 "metadata": {
  "kernelspec": {
   "display_name": "Python 3",
   "language": "python",
   "name": "python3"
  },
  "language_info": {
   "codemirror_mode": {
    "name": "ipython",
    "version": 3
   },
   "file_extension": ".py",
   "mimetype": "text/x-python",
   "name": "python",
   "nbconvert_exporter": "python",
   "pygments_lexer": "ipython3",
   "version": "3.7.4"
  }
 },
 "nbformat": 4,
 "nbformat_minor": 2
}
