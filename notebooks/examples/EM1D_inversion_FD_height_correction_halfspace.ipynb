{
 "cells": [
  {
   "cell_type": "code",
   "execution_count": 6,
   "metadata": {},
   "outputs": [
    {
     "name": "stderr",
     "output_type": "stream",
     "text": [
      "/Users/sgkang/Projects/simpeg/SimPEG/Props.py:399: UserWarning: Cannot add model as there are no active mappings, choose from: ['cMap', 'etaMap', 'hMap', 'sigmaMap', 'tauMap']\n",
      "  \"', '\".join(self._all_map_names)\n"
     ]
    }
   ],
   "source": [
    "from SimPEG import *\n",
    "from simpegEM1D import *\n",
    "from scipy.constants import mu_0\n",
    "import numpy as np\n",
    "\n",
    "cs = 10.\n",
    "nearthick = np.logspace(-1, 1, 3)\n",
    "linthick = np.ones(15)*cs\n",
    "deepthick = np.logspace(1, 2, 3)\n",
    "hx = np.r_[nearthick, linthick, deepthick, deepthick[-1]]\n",
    "mesh1D = Mesh.TensorMesh([hx], [0.])\n",
    "depth = -mesh1D.gridN[:-1]\n",
    "LocSigZ = -mesh1D.gridCC\n",
    "\n",
    "FDsurvey = EM1DSurveyFD(\n",
    "    rx_location = np.array([0., 0., 100.+30.]),\n",
    "    src_location = np.array([0., 0., 100.+30.]),\n",
    "    field_type = 'secondary',\n",
    "    rx_type = 'ppm',\n",
    "    src_type = 'VMD',\n",
    "    offset = np.r_[8.],\n",
    "    topo = np.r_[0., 0., 100.],\n",
    "    depth = depth,\n",
    "    frequency = np.r_[130100.]\n",
    ")\n",
    "\n",
    "sig_half = 1e-2\n",
    "sig_blk = 1e-1\n",
    "chi_half = 0.\n",
    "sig  = np.ones(FDsurvey.n_layer)*sig_half\n",
    "blk_ind = (-50>LocSigZ) & (-100<LocSigZ)\n",
    "sig[blk_ind] = sig_blk\n",
    "prob = EM1D(\n",
    "    mesh1D, sigma=sig,\n",
    "    chi= np.zeros(FDsurvey.n_layer)\n",
    ")\n",
    "if prob.ispaired:\n",
    "    prob.unpair()\n",
    "if FDsurvey.ispaired:\n",
    "    FDsurvey.unpair()\n",
    "prob.pair(FDsurvey)     \n",
    "d_true = FDsurvey.dpred([])"
   ]
  },
  {
   "cell_type": "code",
   "execution_count": 7,
   "metadata": {},
   "outputs": [
    {
     "name": "stdout",
     "output_type": "stream",
     "text": [
      "Populating the interactive namespace from numpy and matplotlib\n"
     ]
    },
    {
     "name": "stderr",
     "output_type": "stream",
     "text": [
      "/Users/sgkang/anaconda3/lib/python3.6/site-packages/IPython/core/magics/pylab.py:160: UserWarning: pylab import has clobbered these variables: ['beta', 'inv', 'erf', 'floor', 'pi', 'std']\n",
      "`%matplotlib` prevents importing * from pylab and numpy\n",
      "  \"\\n`%matplotlib` prevents importing * from pylab and numpy\"\n"
     ]
    },
    {
     "data": {
      "text/plain": [
       "[<matplotlib.lines.Line2D at 0x11013b668>]"
      ]
     },
     "execution_count": 7,
     "metadata": {},
     "output_type": "execute_result"
    },
    {
     "data": {
      "image/png": "[encoded data removed]",
      "text/plain": [
       "<Figure size 360x576 with 1 Axes>"
      ]
     },
     "metadata": {
      "needs_background": "light"
     },
     "output_type": "display_data"
    }
   ],
   "source": [
    "%pylab inline\n",
    "fig, ax = subplots(1,1, figsize=(5, 8))\n",
    "Utils1D.plotLayer(sig, mesh1D, showlayers=False)"
   ]
  },
  {
   "cell_type": "code",
   "execution_count": 8,
   "metadata": {},
   "outputs": [
    {
     "name": "stdout",
     "output_type": "stream",
     "text": [
      "SimPEG.DataMisfit.l2_DataMisfit assigning default eps of 1e-5 * ||dobs||\n",
      "SimPEG.InvProblem will set Regularization.mref to m0.\n",
      "SimPEG.InvProblem will set Regularization.mref to m0.\n",
      "\n",
      "    SimPEG.InvProblem is setting bfgsH0 to the inverse of the eval2Deriv.\n",
      "    ***Done using same Solver and solverOpts as the problem***\n",
      "model has any nan: 0\n",
      "=============================== Projected GNCG ===============================\n",
      "  #     beta     phi_d     phi_m       f      |proj(x-g)-x|  LS    Comment   \n",
      "-----------------------------------------------------------------------------\n",
      "x0 has any nan: 0\n",
      "   0  3.04e+03  1.58e+02  0.00e+00  1.58e+02    1.05e+02      0              \n",
      "   1  1.52e+03  3.59e+01  9.39e-03  5.02e+01    4.16e+01      0              \n",
      "   2  7.60e+02  1.02e+01  1.82e-02  2.40e+01    1.92e+01      0   Skip BFGS  \n",
      "   3  3.80e+02  2.98e+00  2.40e-02  1.21e+01    9.55e+00      0   Skip BFGS  \n",
      "------------------------- STOP! -------------------------\n",
      "1 : |fc-fOld| = 0.0000e+00 <= tolF*(1+|f0|) = 1.5869e+01\n",
      "1 : |xc-x_last| = 1.5261e-01 <= tolX*(1+|x0|) = 3.1785e+00\n",
      "0 : |proj(x-g)-x|    = 9.5489e+00 <= tolG          = 1.0000e-01\n",
      "0 : |proj(x-g)-x|    = 9.5489e+00 <= 1e3*eps       = 1.0000e-02\n",
      "0 : maxIter   =      20    <= iter          =      4\n",
      "------------------------- DONE! -------------------------\n"
     ]
    }
   ],
   "source": [
    "mesh1D = Mesh.TensorMesh([1], [0.])\n",
    "depth = -mesh1D.gridN[:-1]\n",
    "LocSigZ = -mesh1D.gridCC\n",
    "\n",
    "FDsurvey = EM1DSurveyFD(\n",
    "    rx_location = np.array([0., 0., 100.+30.]),\n",
    "    src_location = np.array([0., 0., 100.+30.]),\n",
    "    field_type = 'secondary',\n",
    "    rx_type = 'ppm',\n",
    "    src_type = 'VMD',\n",
    "    offset = np.r_[8.],\n",
    "    topo = np.r_[0., 0., 100.],\n",
    "    depth = depth,\n",
    "    frequency = np.r_[130100.],\n",
    "    half_switch=True\n",
    ")\n",
    "\n",
    "sig_half = 1e-2\n",
    "sig_blk = 1e0\n",
    "chi_half = 0.\n",
    "wires = Maps.Wires(('sigma', mesh1D.nC),('h', 1))\n",
    "expmap = Maps.ExpMap(mesh1D)\n",
    "# expmap_h = Maps.ExpMap(nP=1)\n",
    "sigmaMap = expmap * wires.sigma\n",
    "# hMap = expmap_h*wires.h\n",
    "sig  = np.ones(1)*sig_half\n",
    "\n",
    "prob = EM1D(\n",
    "    mesh1D, sigmaMap=sigmaMap, hMap=wires.h,\n",
    "    chi= np.zeros(FDsurvey.n_layer)\n",
    ")\n",
    "if prob.ispaired:\n",
    "    prob.unpair()\n",
    "if FDsurvey.ispaired:\n",
    "    FDsurvey.unpair()\n",
    "prob.pair(FDsurvey)     \n",
    "\n",
    "FDsurvey.dtrue = d_true\n",
    "std = 0.05\n",
    "floor = 0.\n",
    "np.random.seed(1)\n",
    "uncert = std*abs(FDsurvey.dtrue)+floor\n",
    "noise = std*FDsurvey.dtrue*np.random.randn(FDsurvey.dtrue.size)\n",
    "FDsurvey.dobs = FDsurvey.dtrue+noise\n",
    "dmisfit = DataMisfit.l2_DataMisfit(FDsurvey)\n",
    "dmisfit.W = 1./(abs(FDsurvey.dobs)*std+floor)\n",
    "m0 = np.r_[np.log(np.ones_like(sig)*sig_half*0.1), FDsurvey.h]\n",
    "reg_sigma = Regularization.Sparse(\n",
    "    mesh1D, mapping=wires.sigma,\n",
    "    alpha_s = 0.01\n",
    ")\n",
    "p=0.\n",
    "qx, qz = 2., 2.\n",
    "reg_sigma.norms = np.c_[p, qx, qz, 0.]\n",
    "IRLS = Directives.Update_IRLS(\n",
    "    maxIRLSiter=10, minGNiter=1, fix_Jmatrix=True, coolingRate=2, \n",
    "    betaSearch=False,\n",
    "    chifact_start = 1.\n",
    ")\n",
    "mesh_h = Mesh.TensorMesh([1])\n",
    "reg_h = Regularization.Sparse(\n",
    "    mesh_h, mapping=wires.h, \n",
    "    alpha_s = 1., alpha_x=0.\n",
    ")\n",
    "reg = reg_sigma + reg_h\n",
    "opt = Optimization.ProjectedGNCG(maxIter = 20)\n",
    "opt.maxIterLS = 5\n",
    "invProb = InvProblem.BaseInvProblem(dmisfit, reg, opt)\n",
    "beta = Directives.BetaSchedule(coolingFactor=2., coolingRate=1.)\n",
    "betaest = Directives.BetaEstimate_ByEig(beta0_ratio=1e0)\n",
    "target = Directives.TargetMisfit()\n",
    "inv = Inversion.BaseInversion(invProb, directiveList=[beta,betaest, target])\n",
    "# inv = Inversion.BaseInversion(invProb, directiveList=[IRLS,betaest])\n",
    "\n",
    "prob.counter = opt.counter = Utils.Counter()\n",
    "opt.LSshorten = 0.5\n",
    "opt.remember('xc')\n",
    "mopt = inv.run(m0)"
   ]
  },
  {
   "cell_type": "code",
   "execution_count": 9,
   "metadata": {},
   "outputs": [
    {
     "name": "stdout",
     "output_type": "stream",
     "text": [
      "[30.] [29.99967584] 30.0\n",
      "[0.001] [0.01] [0.01041206]\n"
     ]
    }
   ],
   "source": [
    "print (wires.h*m0, wires.h*mopt, FDsurvey.h)\n",
    "print (sigmaMap*m0, sig, sigmaMap*mopt)"
   ]
  },
  {
   "cell_type": "code",
   "execution_count": null,
   "metadata": {},
   "outputs": [],
   "source": []
  }
 ],
 "metadata": {
  "kernelspec": {
   "display_name": "Python 3",
   "language": "python",
   "name": "python3"
  },
  "language_info": {
   "codemirror_mode": {
    "name": "ipython",
    "version": 3
   },
   "file_extension": ".py",
   "mimetype": "text/x-python",
   "name": "python",
   "nbconvert_exporter": "python",
   "pygments_lexer": "ipython3",
   "version": "3.6.6"
  }
 },
 "nbformat": 4,
 "nbformat_minor": 1
}
