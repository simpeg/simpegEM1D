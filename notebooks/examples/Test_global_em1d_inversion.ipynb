{
 "cells": [
  {
   "cell_type": "code",
   "execution_count": 1,
   "metadata": {},
   "outputs": [
    {
     "name": "stdout",
     "output_type": "stream",
     "text": [
      "Populating the interactive namespace from numpy and matplotlib\n"
     ]
    }
   ],
   "source": [
    "from SimPEG import maps, data\n",
    "import numpy as np\n",
    "from discretize import TensorMesh\n",
    "from matplotlib.colors import LogNorm\n",
    "from simpegEM1D.simulation_stitched1d_original import (\n",
    "    GlobalEM1DSimulationFD, GlobalEM1DSurveyFD\n",
    ")\n",
    "from simpegEM1D.EM1DSimulation_original import get_vertical_discretization_frequency\n",
    "from pymatsolver import PardisoSolver\n",
    "from simpegEM1D.EM1DSimulation_original import *\n",
    "%pylab inline"
   ]
  },
  {
   "cell_type": "code",
   "execution_count": 2,
   "metadata": {},
   "outputs": [],
   "source": [
    "import empymod"
   ]
  },
  {
   "cell_type": "markdown",
   "metadata": {},
   "source": [
    "# Seting up a 2D mesh and model"
   ]
  },
  {
   "cell_type": "code",
   "execution_count": 3,
   "metadata": {},
   "outputs": [],
   "source": [
    "frequency = np.array([25., 100., 382, 1822, 7970, 35920], dtype=float)\n",
    "hz = get_vertical_discretization_frequency(frequency, sigma_background=0.1, n_layer=30)"
   ]
  },
  {
   "cell_type": "code",
   "execution_count": 4,
   "metadata": {},
   "outputs": [],
   "source": [
    "from scipy.spatial import Delaunay\n",
    "def PolygonInd(mesh, pts):\n",
    "    hull = Delaunay(pts)\n",
    "    inds = hull.find_simplex(mesh.gridCC)>=0\n",
    "    return inds"
   ]
  },
  {
   "cell_type": "code",
   "execution_count": 5,
   "metadata": {},
   "outputs": [],
   "source": [
    "n_sounding = 50\n",
    "dx = 100.\n",
    "hx = np.ones(n_sounding) * dx\n",
    "mesh = TensorMesh([hx, hz], x0='00')\n",
    "inds =  mesh.gridCC[:,1]<25\n",
    "sigma = np.ones(mesh.nC) * 1./20.\n",
    "sigma[inds] = 1./30.\n",
    "x0 = np.r_[0., 75.]\n",
    "x1 = np.r_[dx*n_sounding, 75.]\n",
    "x2 = np.r_[dx*n_sounding, 90.]\n",
    "x3 = np.r_[0., 200.]\n",
    "pts = np.vstack((x0, x1, x2, x3, x0))\n",
    "poly_inds = PolygonInd(mesh, pts)\n",
    "sigma[poly_inds] = 1./50\n",
    "sigma_em1d = sigma.reshape(mesh.vnC, order='F').flatten()\n",
    "chi = np.zeros_like(sigma_em1d)\n",
    "# chi[poly_inds] = 0.005"
   ]
  },
  {
   "cell_type": "code",
   "execution_count": 6,
   "metadata": {},
   "outputs": [
    {
     "data": {
      "image/png": "[encoded data removed]",
      "text/plain": [
       "<Figure size 432x288 with 2 Axes>"
      ]
     },
     "metadata": {
      "needs_background": "light"
     },
     "output_type": "display_data"
    }
   ],
   "source": [
    "cb = plt.colorbar(\n",
    "    mesh.plotImage(sigma, grid=False, clim=(1e-2, 1e-1),pcolorOpts={\"norm\":LogNorm()})[0],\n",
    "    fraction=0.03, pad=0.04\n",
    ")\n",
    "\n",
    "plt.ylim(mesh.vectorNy.max(), mesh.vectorNy.min())\n",
    "plt.gca().set_aspect(1)"
   ]
  },
  {
   "cell_type": "code",
   "execution_count": 7,
   "metadata": {},
   "outputs": [],
   "source": [
    "x = mesh.vectorCCx\n",
    "y = np.zeros_like(x)\n",
    "z = np.ones_like(x) * 30.\n",
    "rx_locations = np.c_[x, y, z]\n",
    "src_locations = np.c_[x, y, z]\n",
    "topo = np.c_[x, y, z-30.].astype(float)"
   ]
  },
  {
   "cell_type": "code",
   "execution_count": 8,
   "metadata": {},
   "outputs": [
    {
     "name": "stdout",
     "output_type": "stream",
     "text": [
      ">> Use multiprocessing for parallelization\n",
      ">> n_cpu: 2\n"
     ]
    }
   ],
   "source": [
    "mapping = maps.ExpMap(mesh)\n",
    "# mapping = Maps.IdentityMap(mesh)\n",
    "survey = GlobalEM1DSurveyFD(\n",
    "    rx_locations = rx_locations,\n",
    "    src_locations = src_locations,    \n",
    "    frequency = frequency,\n",
    "    offset = np.ones_like(frequency) * 7.86,\n",
    "    src_type = \"VMD\",\n",
    "    rx_type = \"ppm\",\n",
    "    field_type = 'secondary',\n",
    "    topo = topo\n",
    ")\n",
    "sim = GlobalEM1DSimulationFD(\n",
    "    mesh, survey=survey, sigmaMap=mapping, chi=chi, hz=hz, parallel=True, n_cpu=2, verbose=True,\n",
    "    Solver=PardisoSolver\n",
    ")\n",
    "\n",
    "m = np.log(sigma_em1d)\n",
    "# m =  sigma_em1d.copy()"
   ]
  },
  {
   "cell_type": "code",
   "execution_count": 9,
   "metadata": {},
   "outputs": [
    {
     "name": "stdout",
     "output_type": "stream",
     "text": [
      "Compute fields\n",
      ">> Compute response\n"
     ]
    }
   ],
   "source": [
    "# %%time\n",
    "# dobs = sim.makeSyntheticData(m, std=0.03, force=True)\n",
    "d_true = sim.dpred(m)\n",
    "std = 0.03\n",
    "floor = 0.\n",
    "np.random.seed(1)\n",
    "uncert = std*abs(d_true)+floor\n",
    "noise = std*np.abs(d_true)*np.random.randn(len(d_true))\n",
    "d_obs = d_true + noise\n"
   ]
  },
  {
   "cell_type": "code",
   "execution_count": 10,
   "metadata": {
    "scrolled": false
   },
   "outputs": [
    {
     "name": "stdout",
     "output_type": "stream",
     "text": [
      "J_sigma matrix shape\n",
      "(18000,)\n",
      "IJLayers shapes\n",
      "(18000,)\n",
      "(18000,)\n"
     ]
    }
   ],
   "source": [
    "m0 = np.ones(mesh.nC) * np.log(1./20.)\n",
    "mapping = maps.ExpMap(mesh)\n",
    "sim.sigmaMap = mapping\n",
    "sim._Jmatrix_sigma = [\n",
    "    run_simulation_FD(sim.input_args(i, jac_switch='sensitivity_sigma')) for i in range(sim.n_sounding)\n",
    "]\n",
    "print(\"J_sigma matrix shape\")\n",
    "sim._Jmatrix_sigma = np.hstack(sim._Jmatrix_sigma)\n",
    "print(sim._Jmatrix_sigma.shape)\n",
    "print(\"IJLayers shapes\")\n",
    "for x in sim.IJLayers:\n",
    "    print(x.shape)"
   ]
  },
  {
   "cell_type": "code",
   "execution_count": 11,
   "metadata": {
    "scrolled": false
   },
   "outputs": [],
   "source": [
    "J = sim.getJ_sigma(m0)"
   ]
  },
  {
   "cell_type": "code",
   "execution_count": 12,
   "metadata": {},
   "outputs": [
    {
     "data": {
      "text/plain": [
       "Text(0, 0.5, 'Hz/Hp (ppm)')"
      ]
     },
     "execution_count": 12,
     "metadata": {},
     "output_type": "execute_result"
    },
    {
     "data": {
      "image/png": "[encoded data removed]",
      "text/plain": [
       "<Figure size 432x288 with 1 Axes>"
      ]
     },
     "metadata": {
      "needs_background": "light"
     },
     "output_type": "display_data"
    }
   ],
   "source": [
    "DOBS = d_obs.reshape(( sim.n_sounding, 2, survey.n_frequency))\n",
    "i_freq=0\n",
    "plt.semilogy(mesh.vectorCCx, DOBS[:,0,i_freq], 'k')\n",
    "plt.semilogy(mesh.vectorCCx, DOBS[:,1,i_freq], 'b')    \n",
    "plt.legend((\"In-phase\", \"Quadrature\"), bbox_to_anchor=(1,1))\n",
    "for i_freq in range(survey.n_frequency):\n",
    "    plt.semilogy(mesh.vectorCCx, DOBS[:,0,i_freq], 'k')\n",
    "for i_freq in range(survey.n_frequency):\n",
    "    plt.semilogy(mesh.vectorCCx, DOBS[:,1,i_freq], 'b')    \n",
    "plt.xlabel(\"Distance (m)\")\n",
    "plt.ylabel(\"Hz/Hp (ppm)\")"
   ]
  },
  {
   "cell_type": "code",
   "execution_count": 13,
   "metadata": {},
   "outputs": [],
   "source": [
    "from SimPEG import (\n",
    "    regularization, directives, inversion, inverse_problem, optimization, data_misfit, utils\n",
    ")\n",
    "from simpegEM1D import get_2d_mesh, LateralConstraint"
   ]
  },
  {
   "cell_type": "code",
   "execution_count": 14,
   "metadata": {},
   "outputs": [],
   "source": [
    "def run_inversion(option=None, ps=2, px=2, pz=2, alpha_s=1., alpha_x=1., alpha_z=1.):\n",
    "    \n",
    "    mapping = maps.ExpMap(mesh)\n",
    "    # mapping = Maps.IdentityMap(mesh)\n",
    "    survey = GlobalEM1DSurveyFD(\n",
    "        rx_locations = rx_locations,\n",
    "        src_locations = src_locations,    \n",
    "        frequency = frequency,\n",
    "        offset = np.ones_like(frequency) * 7.86,\n",
    "        src_type = \"VMD\",\n",
    "        rx_type = \"ppm\",\n",
    "        field_type = 'secondary',\n",
    "        topo = topo\n",
    "    )\n",
    "\n",
    "    sim = GlobalEM1DSimulationFD(\n",
    "        mesh, survey=survey, sigmaMap=mapping, chi=chi, hz=hz, parallel=True, n_cpu=2, verbose=True,\n",
    "        Solver=PardisoSolver\n",
    "    )\n",
    "\n",
    "#     m = np.log(sigma_em1d)\n",
    "\n",
    "    std = 0.03\n",
    "    floor = 0.\n",
    "    np.random.seed(1)\n",
    "    uncert = std*abs(d_obs)+floor\n",
    "    dataObj = data.Data(survey, dobs=d_obs, noise_floor=uncert)\n",
    "    \n",
    "    mesh_reg = get_2d_mesh(n_sounding, hz)\n",
    "    regmap = maps.IdentityMap(mesh_reg)\n",
    "    # mapping is required ... for IRLS\n",
    "    reg = LateralConstraint(\n",
    "        mesh_reg, mapping=regmap,\n",
    "        alpha_s = alpha_s,\n",
    "        alpha_x = alpha_x,\n",
    "        alpha_y = alpha_z,\n",
    "    )\n",
    "    xy = utils.ndgrid(np.arange(n_sounding), np.r_[0.])\n",
    "    reg.get_grad_horizontal(xy, hz, dim=2, use_cell_weights=True)\n",
    "    \n",
    "    \n",
    "    m0 = np.ones(mesh_reg.nC) * np.log(1./20.)\n",
    "#     m0 = np.ones(mesh_reg.nC) *1./20.\n",
    "    dmisfit = data_misfit.L2DataMisfit(dataObj, sim)\n",
    "    dmisfit.W = 1./uncert\n",
    "    ps = ps\n",
    "    px, pz = px, pz\n",
    "    reg.norms = np.c_[ps, px, pz, 0.]\n",
    "    IRLS = directives.Update_IRLS(\n",
    "        max_irls_iterations=30, minGNiter=1, \n",
    "        fix_Jmatrix=True, \n",
    "        f_min_change = 1e-4,\n",
    "        coolingRate=3\n",
    "    )\n",
    "    opt = optimization.InexactGaussNewton(maxIter = 40, maxIterCG=20)\n",
    "    \n",
    "    invProb = inverse_problem.BaseInvProblem(dmisfit, reg, opt)\n",
    "    \n",
    "    beta = directives.BetaSchedule(coolingFactor=2, coolingRate=1)\n",
    "    sense = directives.UpdateSensitivityWeights()\n",
    "    betaest = directives.BetaEstimate_ByEig(beta0_ratio=1.)\n",
    "    target = directives.TargetMisfit()\n",
    "    update_precon = directives.UpdatePreconditioner()\n",
    "    if option is None:\n",
    "        reg.alpha_x=0.\n",
    "        inv = inversion.BaseInversion(invProb, directiveList=[beta,sense,betaest,target])        \n",
    "    elif option == \"l2\":\n",
    "        reg.alpha_x=10.        \n",
    "        inv = inversion.BaseInversion(invProb, directiveList=[beta, sense, betaest, target])\n",
    "    elif option == \"l0\":\n",
    "        inv = inversion.BaseInversion(invProb, directiveList=[IRLS, sense, betaest])\n",
    "#     prob.counter = opt.counter = Utils.Counter()\n",
    "    opt.LSshorten = 0.5\n",
    "    opt.remember('xc')\n",
    "#     print (reg.cell_weights)\n",
    "    mopt = inv.run(m0) \n",
    "    if option == 'l0':\n",
    "        return mopt, invProb.l2model, invProb.dpred\n",
    "    else:\n",
    "        return mopt, None, invProb.dpred"
   ]
  },
  {
   "cell_type": "code",
   "execution_count": 15,
   "metadata": {
    "scrolled": false
   },
   "outputs": [],
   "source": [
    "# mopt_none, pred = run_inversion(option=None)"
   ]
  },
  {
   "cell_type": "code",
   "execution_count": 16,
   "metadata": {},
   "outputs": [],
   "source": [
    "# mopt_l2, pred = run_inversion(option='l2')"
   ]
  },
  {
   "cell_type": "code",
   "execution_count": 17,
   "metadata": {
    "scrolled": false
   },
   "outputs": [
    {
     "name": "stdout",
     "output_type": "stream",
     "text": [
      ">> Use multiprocessing for parallelization\n",
      ">> n_cpu: 2\n",
      "SimPEG.InvProblem will set Regularization.mref to m0.\n",
      "\n",
      "        SimPEG.InvProblem is setting bfgsH0 to the inverse of the eval2Deriv.\n",
      "        ***Done using same Solver and solverOpts as the problem***\n",
      ">> Compute J sigma\n",
      "Compute fields\n",
      ">> Compute response\n",
      "model has any nan: 0\n",
      "============================ Inexact Gauss Newton ============================\n",
      "  #     beta     phi_d     phi_m       f      |proj(x-g)-x|  LS    Comment   \n",
      "-----------------------------------------------------------------------------\n",
      "x0 has any nan: 0\n",
      "   0  3.43e+02  2.50e+04  0.00e+00  2.50e+04    6.16e+03      0              \n",
      "Compute fields\n",
      ">> Compute response\n",
      ">> Compute J sigma\n",
      "   1  1.71e+02  3.02e+03  1.02e+01  4.77e+03    1.01e+03      0              \n",
      "Compute fields\n",
      ">> Compute response\n",
      ">> Compute J sigma\n",
      "   2  8.57e+01  9.78e+02  1.59e+01  2.34e+03    3.72e+02      0   Skip BFGS  \n",
      "Compute fields\n",
      ">> Compute response\n",
      ">> Compute J sigma\n",
      "   3  4.29e+01  5.26e+02  1.94e+01  1.36e+03    2.06e+02      0   Skip BFGS  \n",
      "Compute fields\n",
      ">> Compute response\n",
      ">> Compute J sigma\n",
      "   4  2.14e+01  3.48e+02  2.22e+01  8.23e+02    1.17e+02      0   Skip BFGS  \n",
      "Compute fields\n",
      ">> Compute response\n",
      ">> Compute J sigma\n",
      "------------------------- STOP! -------------------------\n",
      "1 : |fc-fOld| = 0.0000e+00 <= tolF*(1+|f0|) = 2.5002e+03\n",
      "1 : |xc-x_last| = 1.1827e+00 <= tolX*(1+|x0|) = 1.1702e+01\n",
      "0 : |proj(x-g)-x|    = 1.1748e+02 <= tolG          = 1.0000e-01\n",
      "0 : |proj(x-g)-x|    = 1.1748e+02 <= 1e3*eps       = 1.0000e-02\n",
      "0 : maxIter   =      40    <= iter          =      5\n",
      "------------------------- DONE! -------------------------\n"
     ]
    }
   ],
   "source": [
    "mopt_l0_ps0, mopt_l2_ps0, pred = run_inversion(option='l2', ps=0, px=2, pz=2, alpha_s=1., alpha_x=10., alpha_z=1.)"
   ]
  },
  {
   "cell_type": "code",
   "execution_count": 18,
   "metadata": {
    "scrolled": false
   },
   "outputs": [
    {
     "name": "stdout",
     "output_type": "stream",
     "text": [
      ">> Use multiprocessing for parallelization\n",
      ">> n_cpu: 2\n",
      "SimPEG.InvProblem will set Regularization.mref to m0.\n",
      "\n",
      "        SimPEG.InvProblem is setting bfgsH0 to the inverse of the eval2Deriv.\n",
      "        ***Done using same Solver and solverOpts as the problem***\n",
      ">> Compute J sigma\n"
     ]
    },
    {
     "name": "stderr",
     "output_type": "stream",
     "text": [
      "D:\\Documents\\Repositories\\simpeg\\SimPEG\\directives.py:916: UserWarning: Without a Linear preconditioner, convergence may be slow. Consider adding `Directives.UpdatePreconditioner` to your directives list\n",
      "  \"Without a Linear preconditioner, convergence may be slow. \"\n"
     ]
    },
    {
     "name": "stdout",
     "output_type": "stream",
     "text": [
      "Compute fields\n",
      ">> Compute response\n",
      "model has any nan: 0\n",
      "============================ Inexact Gauss Newton ============================\n",
      "  #     beta     phi_d     phi_m       f      |proj(x-g)-x|  LS    Comment   \n",
      "-----------------------------------------------------------------------------\n",
      "x0 has any nan: 0\n",
      "   0  4.98e+02  2.50e+04  0.00e+00  2.50e+04    6.16e+03      0              \n",
      "Compute fields\n",
      ">> Compute response\n",
      ">> Compute J sigma\n",
      "   1  4.98e+02  1.53e+03  2.52e-01  1.65e+03    7.68e+02      0              \n",
      "Compute fields\n",
      ">> Compute response\n",
      ">> Compute J sigma\n",
      "   2  4.98e+02  3.87e+02  3.53e-01  5.63e+02    7.87e+01      0   Skip BFGS  \n",
      "Compute fields\n",
      ">> Compute response\n",
      ">> Compute J sigma\n",
      "   3  2.49e+02  3.42e+02  3.93e-01  4.40e+02    7.40e+01      0   Skip BFGS  \n",
      "Compute fields\n",
      ">> Compute response\n",
      "Reached starting chifact with l2-norm regularization: Start IRLS steps...\n",
      "eps_p: 0.48452322852378993 eps_q: 0.48452322852378993\n",
      ">> Fix Jmatrix\n",
      ">> Compute J sigma\n",
      "   4  2.49e+02  2.96e+02  4.09e-01  3.98e+02    2.08e+01      0              \n",
      "Compute fields\n",
      ">> Compute response\n",
      ">> Fix Jmatrix\n",
      "   5  3.88e+02  2.69e+02  5.87e-01  4.97e+02    7.65e+01      0   Skip BFGS  \n",
      "Compute fields\n",
      ">> Compute response\n",
      ">> Fix Jmatrix\n",
      "   6  3.88e+02  3.11e+02  4.01e-01  4.67e+02    9.75e+00      0              \n",
      "Compute fields\n",
      ">> Compute response\n",
      ">> Fix Jmatrix\n",
      "   7  3.88e+02  3.05e+02  4.61e-01  4.84e+02    1.33e+01      0              \n",
      "Compute fields\n",
      ">> Compute response\n",
      ">> Fix Jmatrix\n",
      "   8  3.88e+02  3.17e+02  4.43e-01  4.89e+02    6.18e+00      0              \n",
      "Compute fields\n",
      ">> Compute response\n",
      ">> Fix Jmatrix\n",
      "   9  3.88e+02  3.22e+02  4.53e-01  4.98e+02    7.70e+00      0   Skip BFGS  \n",
      "Compute fields\n",
      ">> Compute response\n",
      ">> Fix Jmatrix\n",
      "  10  3.88e+02  3.29e+02  4.55e-01  5.06e+02    7.53e+00      0              \n",
      "Compute fields\n",
      ">> Compute response\n",
      ">> Fix Jmatrix\n",
      "  11  3.19e+02  3.36e+02  4.60e-01  4.82e+02    2.26e+01      0   Skip BFGS  \n",
      "Compute fields\n",
      ">> Compute response\n",
      ">> Fix Jmatrix\n",
      "  12  3.19e+02  3.28e+02  5.33e-01  4.98e+02    1.46e+01      0              \n",
      "Compute fields\n",
      ">> Compute response\n",
      ">> Fix Jmatrix\n",
      "  13  2.60e+02  3.40e+02  5.18e-01  4.75e+02    2.29e+01      0              \n",
      "Compute fields\n",
      ">> Compute response\n",
      ">> Fix Jmatrix\n",
      "  14  2.15e+02  3.32e+02  6.14e-01  4.64e+02    2.02e+01      0              \n",
      "Compute fields\n",
      ">> Compute response\n",
      ">> Fix Jmatrix\n",
      "  15  1.79e+02  3.30e+02  6.90e-01  4.54e+02    2.01e+01      0              \n",
      "Compute fields\n",
      ">> Compute response\n",
      ">> Fix Jmatrix\n",
      "  16  1.79e+02  3.28e+02  7.96e-01  4.70e+02    2.15e+01      0              \n",
      "Compute fields\n",
      ">> Compute response\n",
      ">> Fix Jmatrix\n",
      "  17  1.46e+02  3.39e+02  8.09e-01  4.57e+02    2.43e+01      0              \n",
      "Compute fields\n",
      ">> Compute response\n",
      ">> Fix Jmatrix\n",
      "  18  1.20e+02  3.37e+02  9.58e-01  4.52e+02    2.99e+01      0              \n",
      "Compute fields\n",
      ">> Compute response\n",
      ">> Fix Jmatrix\n",
      "  19  9.80e+01  3.38e+02  1.09e+00  4.44e+02    3.63e+01      0              \n",
      "Compute fields\n",
      ">> Compute response\n",
      ">> Fix Jmatrix\n",
      "  20  8.02e+01  3.38e+02  1.23e+00  4.37e+02    5.04e+01      0              \n",
      "Compute fields\n",
      ">> Compute response\n",
      ">> Fix Jmatrix\n",
      "  21  6.58e+01  3.37e+02  1.45e+00  4.32e+02    6.74e+01      0              \n",
      "Compute fields\n",
      ">> Compute response\n",
      ">> Fix Jmatrix\n",
      "  22  5.39e+01  3.38e+02  1.37e+00  4.11e+02    7.78e+01      0              \n",
      "Compute fields\n",
      ">> Compute response\n",
      ">> Fix Jmatrix\n",
      "  23  4.45e+01  3.33e+02  1.25e+00  3.89e+02    9.40e+01      0              \n",
      "Compute fields\n",
      ">> Compute response\n",
      ">> Fix Jmatrix\n",
      "  24  4.45e+01  3.29e+02  1.08e+00  3.76e+02    1.02e+02      0              \n",
      "Compute fields\n",
      ">> Compute response\n",
      ">> Fix Jmatrix\n",
      "  25  4.45e+01  3.25e+02  9.16e-01  3.66e+02    1.17e+02      0              \n",
      "Compute fields\n",
      ">> Compute response\n",
      ">> Fix Jmatrix\n",
      "  26  4.45e+01  3.23e+02  7.93e-01  3.59e+02    1.09e+02      0              \n",
      "Compute fields\n",
      ">> Compute response\n",
      ">> Fix Jmatrix\n",
      "  27  4.45e+01  3.21e+02  7.58e-01  3.55e+02    1.09e+02      0              \n",
      "Compute fields\n",
      ">> Compute response\n",
      ">> Fix Jmatrix\n",
      "  28  4.45e+01  3.18e+02  7.47e-01  3.51e+02    1.23e+02      0              \n",
      "Compute fields\n",
      ">> Compute response\n",
      ">> Fix Jmatrix\n",
      "  29  4.45e+01  2.99e+02  8.97e-01  3.39e+02    1.03e+02      0              \n",
      "Compute fields\n",
      ">> Compute response\n",
      ">> Fix Jmatrix\n",
      "  30  4.45e+01  2.91e+02  9.14e-01  3.32e+02    1.26e+02      0   Skip BFGS  \n",
      "Compute fields\n",
      ">> Compute response\n",
      ">> Fix Jmatrix\n",
      "  31  4.45e+01  2.87e+02  8.76e-01  3.26e+02    1.19e+02      0              \n",
      "Compute fields\n",
      ">> Compute response\n",
      ">> Fix Jmatrix\n",
      "  32  4.45e+01  2.81e+02  8.71e-01  3.20e+02    1.63e+02      0              \n",
      "Compute fields\n",
      ">> Compute response\n",
      ">> Fix Jmatrix\n",
      "  33  4.45e+01  2.75e+02  8.75e-01  3.14e+02    1.76e+02      0              \n",
      "Compute fields\n",
      ">> Compute response\n",
      ">> Fix Jmatrix\n",
      "Reach maximum number of IRLS cycles: 30\n",
      "------------------------- STOP! -------------------------\n",
      "1 : |fc-fOld| = 0.0000e+00 <= tolF*(1+|f0|) = 2.5002e+03\n",
      "1 : |xc-x_last| = 3.0590e-01 <= tolX*(1+|x0|) = 1.1702e+01\n",
      "0 : |proj(x-g)-x|    = 1.7618e+02 <= tolG          = 1.0000e-01\n",
      "0 : |proj(x-g)-x|    = 1.7618e+02 <= 1e3*eps       = 1.0000e-02\n",
      "0 : maxIter   =      40    <= iter          =     34\n",
      "------------------------- DONE! -------------------------\n"
     ]
    }
   ],
   "source": [
    "mopt_l0_qx2, mopt_l2_qx2, pred = run_inversion(option='l0', ps=2, px=2, pz=0, alpha_s=1e-2, alpha_x=10., alpha_z=1.)"
   ]
  },
  {
   "cell_type": "code",
   "execution_count": 19,
   "metadata": {
    "scrolled": false
   },
   "outputs": [
    {
     "name": "stdout",
     "output_type": "stream",
     "text": [
      ">> Use multiprocessing for parallelization\n",
      ">> n_cpu: 2\n",
      "SimPEG.InvProblem will set Regularization.mref to m0.\n",
      "\n",
      "        SimPEG.InvProblem is setting bfgsH0 to the inverse of the eval2Deriv.\n",
      "        ***Done using same Solver and solverOpts as the problem***\n",
      ">> Compute J sigma\n"
     ]
    },
    {
     "name": "stderr",
     "output_type": "stream",
     "text": [
      "D:\\Documents\\Repositories\\simpeg\\SimPEG\\directives.py:916: UserWarning: Without a Linear preconditioner, convergence may be slow. Consider adding `Directives.UpdatePreconditioner` to your directives list\n",
      "  \"Without a Linear preconditioner, convergence may be slow. \"\n"
     ]
    },
    {
     "name": "stdout",
     "output_type": "stream",
     "text": [
      "Compute fields\n",
      ">> Compute response\n",
      "model has any nan: 0\n",
      "============================ Inexact Gauss Newton ============================\n",
      "  #     beta     phi_d     phi_m       f      |proj(x-g)-x|  LS    Comment   \n",
      "-----------------------------------------------------------------------------\n",
      "x0 has any nan: 0\n",
      "   0  4.98e+02  2.50e+04  0.00e+00  2.50e+04    6.16e+03      0              \n",
      "Compute fields\n",
      ">> Compute response\n",
      ">> Compute J sigma\n",
      "   1  4.98e+02  1.53e+03  2.52e-01  1.65e+03    7.68e+02      0              \n",
      "Compute fields\n",
      ">> Compute response\n",
      ">> Compute J sigma\n",
      "   2  4.98e+02  3.87e+02  3.53e-01  5.63e+02    7.87e+01      0   Skip BFGS  \n",
      "Compute fields\n",
      ">> Compute response\n",
      ">> Compute J sigma\n",
      "   3  2.49e+02  3.42e+02  3.93e-01  4.40e+02    7.40e+01      0   Skip BFGS  \n",
      "Compute fields\n",
      ">> Compute response\n",
      "Reached starting chifact with l2-norm regularization: Start IRLS steps...\n",
      "eps_p: 0.4831159414302415 eps_q: 0.4831159414302415\n",
      ">> Fix Jmatrix\n",
      ">> Compute J sigma\n",
      "   4  2.49e+02  2.96e+02  4.90e-01  4.18e+02    1.22e+02      0              \n",
      "Compute fields\n",
      ">> Compute response\n",
      ">> Fix Jmatrix\n",
      "   5  3.91e+02  2.64e+02  7.86e-01  5.71e+02    3.46e+02      0              \n",
      "Compute fields\n",
      ">> Compute response\n",
      ">> Fix Jmatrix\n",
      "   6  3.91e+02  3.30e+02  3.66e-01  4.73e+02    9.98e+01      0              \n",
      "Compute fields\n",
      ">> Compute response\n",
      ">> Fix Jmatrix\n",
      "   7  3.91e+02  3.02e+02  5.24e-01  5.07e+02    1.09e+02      0              \n",
      "Compute fields\n",
      ">> Compute response\n",
      ">> Fix Jmatrix\n",
      "   8  3.23e+02  3.32e+02  4.09e-01  4.64e+02    7.57e+01      0              \n",
      "Compute fields\n",
      ">> Compute response\n",
      ">> Fix Jmatrix\n",
      "   9  3.23e+02  3.12e+02  5.56e-01  4.92e+02    6.54e+01      0              \n",
      "Compute fields\n",
      ">> Compute response\n",
      ">> Fix Jmatrix\n",
      "  10  2.65e+02  3.36e+02  4.61e-01  4.58e+02    6.63e+01      0              \n",
      "Compute fields\n",
      ">> Compute response\n",
      ">> Fix Jmatrix\n",
      "  11  2.65e+02  3.20e+02  6.13e-01  4.83e+02    5.38e+01      0              \n",
      "Compute fields\n",
      ">> Compute response\n",
      ">> Fix Jmatrix\n",
      "  12  2.16e+02  3.41e+02  5.25e-01  4.54e+02    6.39e+01      0              \n",
      "Compute fields\n",
      ">> Compute response\n",
      ">> Fix Jmatrix\n",
      "  13  2.16e+02  3.27e+02  6.92e-01  4.76e+02    5.09e+01      0              \n",
      "Compute fields\n",
      ">> Compute response\n",
      ">> Fix Jmatrix\n",
      "  14  1.75e+02  3.45e+02  6.07e-01  4.51e+02    6.31e+01      0              \n",
      "Compute fields\n",
      ">> Compute response\n",
      ">> Fix Jmatrix\n",
      "  15  1.43e+02  3.38e+02  6.91e-01  4.37e+02    1.72e+01      0              \n",
      "Compute fields\n",
      ">> Compute response\n",
      ">> Fix Jmatrix\n",
      "  16  1.18e+02  3.35e+02  7.53e-01  4.24e+02    3.66e+01      0              \n",
      "Compute fields\n",
      ">> Compute response\n",
      ">> Fix Jmatrix\n",
      "  17  9.79e+01  3.30e+02  9.71e-01  4.25e+02    3.73e+01      0              \n",
      "Compute fields\n",
      ">> Compute response\n",
      ">> Fix Jmatrix\n",
      "  18  9.79e+01  3.29e+02  1.10e+00  4.37e+02    3.95e+01      0              \n",
      "Compute fields\n",
      ">> Compute response\n",
      ">> Fix Jmatrix\n",
      "  19  9.79e+01  3.26e+02  1.29e+00  4.52e+02    6.31e+01      0              \n",
      "Compute fields\n",
      ">> Compute response\n",
      ">> Fix Jmatrix\n",
      "  20  9.79e+01  3.22e+02  1.35e+00  4.54e+02    1.05e+02      0              \n",
      "Compute fields\n",
      ">> Compute response\n",
      ">> Fix Jmatrix\n",
      "  21  9.79e+01  3.17e+02  1.41e+00  4.55e+02    1.58e+02      0              \n",
      "Compute fields\n",
      ">> Compute response\n",
      ">> Fix Jmatrix\n",
      "  22  9.79e+01  3.14e+02  1.36e+00  4.46e+02    2.30e+02      0              \n",
      "Compute fields\n",
      ">> Compute response\n",
      ">> Fix Jmatrix\n",
      "  23  9.79e+01  3.12e+02  1.23e+00  4.32e+02    2.72e+02      0              \n",
      "Compute fields\n",
      ">> Compute response\n",
      ">> Fix Jmatrix\n",
      "  24  9.79e+01  3.13e+02  1.07e+00  4.18e+02    3.23e+02      0              \n",
      "Compute fields\n",
      ">> Compute response\n",
      ">> Fix Jmatrix\n",
      "  25  9.79e+01  3.15e+02  1.02e+00  4.15e+02    4.11e+02      0              \n",
      "Compute fields\n",
      ">> Compute response\n",
      ">> Fix Jmatrix\n",
      "  26  9.79e+01  3.22e+02  8.80e-01  4.08e+02    3.66e+02      0              \n",
      "Compute fields\n",
      ">> Compute response\n",
      ">> Fix Jmatrix\n",
      "  27  9.79e+01  3.26e+02  7.70e-01  4.02e+02    3.17e+02      0              \n",
      "Compute fields\n",
      ">> Compute response\n",
      ">> Fix Jmatrix\n",
      "  28  9.79e+01  3.29e+02  7.07e-01  3.98e+02    3.16e+02      0              \n",
      "Compute fields\n",
      ">> Compute response\n",
      ">> Fix Jmatrix\n",
      "  29  8.11e+01  3.31e+02  6.18e-01  3.81e+02    1.74e+02      0              \n",
      "Compute fields\n",
      ">> Compute response\n",
      ">> Fix Jmatrix\n",
      "  30  8.11e+01  3.29e+02  5.83e-01  3.76e+02    1.63e+02      0              \n",
      "Compute fields\n",
      ">> Compute response\n",
      ">> Fix Jmatrix\n",
      "  31  8.11e+01  3.28e+02  5.56e-01  3.73e+02    2.14e+02      0   Skip BFGS  \n",
      "Compute fields\n",
      ">> Compute response\n",
      ">> Fix Jmatrix\n",
      "  32  8.11e+01  3.28e+02  5.23e-01  3.70e+02    2.53e+02      0              \n",
      "Compute fields\n",
      ">> Compute response\n",
      ">> Fix Jmatrix\n",
      "  33  8.11e+01  3.27e+02  4.99e-01  3.67e+02    3.08e+02      0              \n",
      "Compute fields\n",
      ">> Compute response\n",
      ">> Fix Jmatrix\n",
      "Reach maximum number of IRLS cycles: 30\n",
      "------------------------- STOP! -------------------------\n",
      "1 : |fc-fOld| = 0.0000e+00 <= tolF*(1+|f0|) = 2.5002e+03\n",
      "1 : |xc-x_last| = 1.8464e-01 <= tolX*(1+|x0|) = 1.1702e+01\n",
      "0 : |proj(x-g)-x|    = 3.0787e+02 <= tolG          = 1.0000e-01\n",
      "0 : |proj(x-g)-x|    = 3.0787e+02 <= 1e3*eps       = 1.0000e-02\n",
      "0 : maxIter   =      40    <= iter          =     34\n",
      "------------------------- DONE! -------------------------\n"
     ]
    }
   ],
   "source": [
    "mopt_l0, mopt_l2, pred = run_inversion(option='l0', ps=2, px=0, pz=0, alpha_s=1e-2, alpha_x=10., alpha_z=1.)"
   ]
  },
  {
   "cell_type": "code",
   "execution_count": 20,
   "metadata": {},
   "outputs": [
    {
     "data": {
      "image/png": "[encoded data removed]",
      "text/plain": [
       "<Figure size 432x288 with 1 Axes>"
      ]
     },
     "metadata": {
      "needs_background": "light"
     },
     "output_type": "display_data"
    }
   ],
   "source": [
    "DOBS = d_obs.reshape((sim.n_sounding, 2, survey.n_frequency))\n",
    "DPRED = pred.reshape((sim.n_sounding, 2, survey.n_frequency))\n",
    "for i_freq in range(survey.n_frequency):\n",
    "    plt.semilogy(mesh.vectorCCx, DOBS[:,0,i_freq], 'k')\n",
    "    plt.semilogy(mesh.vectorCCx, DPRED[:,0,i_freq], 'kx')\n",
    "for i_freq in range(survey.n_frequency):\n",
    "    plt.semilogy(mesh.vectorCCx, DOBS[:,1,i_freq], 'b')\n",
    "    plt.semilogy(mesh.vectorCCx, DPRED[:,1,i_freq], 'bx')"
   ]
  },
  {
   "cell_type": "code",
   "execution_count": 21,
   "metadata": {},
   "outputs": [],
   "source": [
    "sigma_est_l2 = utils.mkvc((np.exp(mopt_l2)).reshape((sim.n_sounding, sim.n_layer)))\n",
    "sigma_est_l2_qx2 = utils.mkvc((np.exp(mopt_l2_qx2)).reshape((sim.n_sounding, sim.n_layer)))\n",
    "# sigma_est_l2_ps0 = utils.mkvc((np.exp(mopt_l2_ps0)).reshape((sim.n_sounding, sim.n_layer)))\n",
    "\n",
    "sigma_est_l0 = utils.mkvc((np.exp(mopt_l0)).reshape((sim.n_sounding, sim.n_layer)))\n",
    "sigma_est_l0_qx2 = utils.mkvc((np.exp(mopt_l0_qx2)).reshape((sim.n_sounding, sim.n_layer)))\n",
    "sigma_est_l0_ps0 = utils.mkvc((np.exp(mopt_l0_ps0)).reshape((sim.n_sounding, sim.n_layer)))"
   ]
  },
  {
   "cell_type": "code",
   "execution_count": 22,
   "metadata": {},
   "outputs": [
    {
     "data": {
      "image/png": "[encoded data removed]",
      "text/plain": [
       "<Figure size 720x720 with 8 Axes>"
      ]
     },
     "metadata": {
      "needs_background": "light"
     },
     "output_type": "display_data"
    }
   ],
   "source": [
    "sigmas = [\n",
    "    sigma, \n",
    "    sigma_est_l0,\n",
    "    sigma_est_l0_qx2,\n",
    "    sigma_est_l0_ps0\n",
    "]\n",
    "fig, axs = plt.subplots(4,1, figsize=(10, 10))\n",
    "for ii in range(4):\n",
    "    cb = plt.colorbar(\n",
    "        mesh.plotImage(\n",
    "            sigmas[ii], grid=True, clim=(1./50, 1e-1), ax=axs[ii], \n",
    "            pcolorOpts={\"norm\":LogNorm(), 'cmap': 'jet_r'},\n",
    "            gridOpts={'alpha':0.2, 'color':'grey'}\n",
    "        )[0],\n",
    "        fraction=0.02, pad=0.04, ax=axs[ii]\n",
    "    )\n",
    "    axs[ii].set_ylim(mesh.vectorNy.max(), mesh.vectorNy.min())\n",
    "    axs[ii].set_ylabel(\"z\")\n",
    "    axs[ii].set_ylim(mesh.vectorNy.max(), mesh.vectorNy.min())\n",
    "    axs[ii].set_aspect(10)\n",
    "plt.tight_layout()"
   ]
  },
  {
   "cell_type": "code",
   "execution_count": 23,
   "metadata": {},
   "outputs": [
    {
     "ename": "NameError",
     "evalue": "name 'sigma_est_l2_ps0' is not defined",
     "output_type": "error",
     "traceback": [
      "\u001b[1;31m---------------------------------------------------------------------------\u001b[0m",
      "\u001b[1;31mNameError\u001b[0m                                 Traceback (most recent call last)",
      "\u001b[1;32m<ipython-input-23-c8051602e535>\u001b[0m in \u001b[0;36m<module>\u001b[1;34m\u001b[0m\n\u001b[0;32m      3\u001b[0m     \u001b[0msigma_est_l2\u001b[0m\u001b[1;33m,\u001b[0m\u001b[1;33m\u001b[0m\u001b[1;33m\u001b[0m\u001b[0m\n\u001b[0;32m      4\u001b[0m     \u001b[0msigma_est_l2_qx2\u001b[0m\u001b[1;33m,\u001b[0m\u001b[1;33m\u001b[0m\u001b[1;33m\u001b[0m\u001b[0m\n\u001b[1;32m----> 5\u001b[1;33m     \u001b[0msigma_est_l2_ps0\u001b[0m\u001b[1;33m\u001b[0m\u001b[1;33m\u001b[0m\u001b[0m\n\u001b[0m\u001b[0;32m      6\u001b[0m ]\n\u001b[0;32m      7\u001b[0m \u001b[0mfig\u001b[0m\u001b[1;33m,\u001b[0m \u001b[0maxs\u001b[0m \u001b[1;33m=\u001b[0m \u001b[0mplt\u001b[0m\u001b[1;33m.\u001b[0m\u001b[0msubplots\u001b[0m\u001b[1;33m(\u001b[0m\u001b[1;36m4\u001b[0m\u001b[1;33m,\u001b[0m\u001b[1;36m1\u001b[0m\u001b[1;33m,\u001b[0m \u001b[0mfigsize\u001b[0m\u001b[1;33m=\u001b[0m\u001b[1;33m(\u001b[0m\u001b[1;36m5\u001b[0m\u001b[1;33m,\u001b[0m \u001b[1;36m10\u001b[0m\u001b[1;33m)\u001b[0m\u001b[1;33m)\u001b[0m\u001b[1;33m\u001b[0m\u001b[1;33m\u001b[0m\u001b[0m\n",
      "\u001b[1;31mNameError\u001b[0m: name 'sigma_est_l2_ps0' is not defined"
     ]
    }
   ],
   "source": [
    "sigmas = [\n",
    "    sigma, \n",
    "    sigma_est_l2,\n",
    "    sigma_est_l2_qx2,\n",
    "    sigma_est_l2_ps0\n",
    "]\n",
    "fig, axs = plt.subplots(4,1, figsize=(5, 10))\n",
    "for ii in range(3):\n",
    "    cb = plt.colorbar(\n",
    "        mesh.plotImage(\n",
    "            sigmas[ii], grid=True, clim=(1./50, 1e-1), ax=axs[ii], \n",
    "            pcolorOpts={\"norm\":LogNorm(), 'cmap': 'jet_r'},\n",
    "            gridOpts={'alpha':0.2, 'color':'grey'}\n",
    "        )[0],\n",
    "        fraction=0.02, pad=0.04, ax=axs[ii]\n",
    "    )\n",
    "    axs[ii].set_ylim(mesh.vectorNy.max(), mesh.vectorNy.min())\n",
    "    axs[ii].set_ylabel(\"z\")\n",
    "    axs[ii].set_ylim(mesh.vectorNy.max(), mesh.vectorNy.min())\n",
    "    axs[ii].set_aspect(10)\n",
    "plt.tight_layout()"
   ]
  },
  {
   "cell_type": "code",
   "execution_count": null,
   "metadata": {},
   "outputs": [],
   "source": []
  }
 ],
 "metadata": {
  "kernelspec": {
   "display_name": "Python 3",
   "language": "python",
   "name": "python3"
  },
  "language_info": {
   "codemirror_mode": {
    "name": "ipython",
    "version": 3
   },
   "file_extension": ".py",
   "mimetype": "text/x-python",
   "name": "python",
   "nbconvert_exporter": "python",
   "pygments_lexer": "ipython3",
   "version": "3.7.4"
  }
 },
 "nbformat": 4,
 "nbformat_minor": 2
}
