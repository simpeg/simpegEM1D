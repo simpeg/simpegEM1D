{
 "cells": [
  {
   "cell_type": "code",
   "execution_count": 1,
   "metadata": {},
   "outputs": [
    {
     "name": "stdout",
     "output_type": "stream",
     "text": [
      "Populating the interactive namespace from numpy and matplotlib\n"
     ]
    }
   ],
   "source": [
    "from SimPEG import *\n",
    "from simpegEM1D import (\n",
    "    EM1D, EM1DSurveyTD, Utils1D, get_vertical_discretization_time, set_mesh_1d, piecewise_pulse,\n",
    "    EM1DSurveyFD, skytem_HM_2015, skytem_LM_2015\n",
    ")\n",
    "import numpy as np\n",
    "%pylab inline\n",
    "import matplotlib\n",
    "matplotlib.rcParams['font.size'] = 14"
   ]
  },
  {
   "cell_type": "markdown",
   "metadata": {},
   "source": [
    "# Depth of investigation for AEM data\n",
    "\n",
    "This notebook illustrates how depth of investigation from Christiansen and Auken (2012) can be \n",
    "obtained. using `simpegEM1D` code. \n",
    "\n",
    "Anders Vest Christiansen and Esben Auken (2012). ”A global measure for depth of investigation.” GEOPHYSICS, 77(4), WB171-WB177.\n",
    "\n",
    "https://doi.org/10.1190/geo2011-0393.1\n"
   ]
  },
  {
   "cell_type": "markdown",
   "metadata": {},
   "source": [
    "# Background\n",
    "\n",
    "Basic idea of Christiansen and Auken (2012) is following. Diffusive EM wave propagate downward, and it decays as it propagates deeper. Rate of decay will be dependent upon conductivity (or resistivity) structure. For instance, in a conductive medium EM wave will decay more compared to a resistive medium resulting in smaller DOI. In addition, the latest time channel will includes the deepest information, and hence if noise level of the observation is high then DOI will decrease. \n",
    "\n",
    "Christiansen and Auken (2012) used a sensitivity function, $J=\\frac{\\partial d}{\\partial m}$, and data uncertainty ($\\triangle d$) to evaluate DOI. Here $d$ is predicted data, and $m$ is an inversion model. So, $J$ includes information about how EM wave decays in earth medium having variable conductivity structure, and data uncertainty correspond to the noise level. \n",
    "\n",
    "Important details in their approach are both $d$ and $m$ are logarithmic properties. So, $d=log(\\text{voltage})$ and $m=log(\\sigma)$; $\\triangle d=\\% log(\\text{voltage})$. \n",
    "\n",
    "Let matrix, $\\mathbf{G}$, is:\n",
    "\n",
    "$$ \\mathbf{G} = diag(1/\\mathbf{\\triangle d})\\mathbf{J}$$ \n",
    "\n",
    "By summing all the rows of $\\mathbf{G}$:\n",
    "\n",
    "$$ s_j = \\Sigma_i^{N} G_{ij} $$\n",
    "\n",
    "Then by integrating $\\mathbf{s}$ from bottom layer to the surface layer:\n",
    "\n",
    "$$ S_j = \\Sigma_{k=1}^{j} s_k $$\n",
    "\n",
    "Here $\\mathbf{S}$ is a cumulative sensitivity. \n",
    "\n",
    "Dimensions for each of matricies and vectors are:\n",
    "\n",
    "- $\\mathbf{J}$: $N\\times M$ \n",
    "- $\\mathbf{G}$: $N\\times M$\n",
    "- $\\mathbf{s}$: $M\\times1$ \n",
    "- $\\mathbf{S}$: $M\\times1$\n",
    "- $\\triangle\\mathbf{ d}$: N$\\times$1\n",
    "\n",
    "The number of data and model are $M$ and $N$, respectively. \n",
    "\n",
    "In the end, we need to choose DOI based upon $\\mathbf{S}$, and in the paper they introduced a magic threshold value, 0.8. Any layer having smaller $\\mathbf{S}$ value than 0.8 is below the DOI. "
   ]
  },
  {
   "cell_type": "markdown",
   "metadata": {},
   "source": [
    "# Examples\n",
    "\n",
    "As an example, we present two AEM surveys: (1) SkyTEM and (2) Resolve. SkyTEM is a time-domain AEM system, and its base frequency is often 25Hz (or 30Hz depending upon locations). In contrast, Resolve is a frequency-domain AEM system and its lowest frequency is about 400Hz. Hence, our expection of DOI for SkyTEM will be greater than Resolve. \n",
    "\n",
    "Following snnipet of codes computes SkyTEM and Resolve responses, then compute DOI for each of them. "
   ]
  },
  {
   "cell_type": "code",
   "execution_count": 2,
   "metadata": {},
   "outputs": [],
   "source": [
    "wave_HM = skytem_HM_2015()\n",
    "wave_LM = skytem_LM_2015()\n",
    "time_HM = wave_HM.time_gate_center\n",
    "time_LM = wave_LM.time_gate_center\n",
    "\n",
    "hz = get_vertical_discretization_time(\n",
    "    np.unique(np.r_[time_HM, time_LM]), facter_tmax=0.5, factor_tmin=10., n_layer=39\n",
    ")\n",
    "mesh1D = set_mesh_1d(hz)\n",
    "depth = -mesh1D.gridN[:-1]\n",
    "LocSigZ = -mesh1D.gridCC\n",
    "sig_half = 1./15.\n",
    "sig  = np.ones(hz.size)*sig_half\n",
    "blk_ind = (-15>LocSigZ) & (-120<LocSigZ)\n",
    "sig[blk_ind] = 1./15.\n",
    "blk_ind = (-120>LocSigZ) & (-300<LocSigZ)\n",
    "sig[blk_ind] = 1./15.\n",
    "blk_ind = -300>LocSigZ\n",
    "sig[blk_ind] = 1./15.\n",
    "m_true = np.log(sig)"
   ]
  },
  {
   "cell_type": "code",
   "execution_count": 3,
   "metadata": {},
   "outputs": [],
   "source": [
    "def get_skytem_survey_problem(mesh1D, m_true):\n",
    "    time_input_currents_HM = wave_HM.current_times[-7:]\n",
    "    input_currents_HM = wave_HM.currents[-7:]\n",
    "    time_input_currents_LM = wave_LM.current_times[-13:]\n",
    "    input_currents_LM = wave_LM.currents[-13:]\n",
    "\n",
    "    TDsurvey = EM1DSurveyTD(\n",
    "        rx_location = np.array([0., 0., 100.+30.]),\n",
    "        src_location = np.array([0., 0., 100.+30.]),\n",
    "        topo = np.r_[0., 0., 100.],\n",
    "        depth = depth,\n",
    "        rx_type = 'dBzdt',\n",
    "        wave_type = 'general',\n",
    "        src_type = 'CircularLoop',\n",
    "        a = 13.,\n",
    "        I = 1.,\n",
    "        time = time_HM,\n",
    "        time_input_currents=time_input_currents_HM,\n",
    "        input_currents=input_currents_HM,\n",
    "        n_pulse = 2,\n",
    "        base_frequency = 25.,\n",
    "        use_lowpass_filter=True,\n",
    "        high_cut_frequency=210*1e3,\n",
    "        moment_type='dual',\n",
    "        time_dual_moment = time_LM,    \n",
    "        time_input_currents_dual_moment=time_input_currents_LM,\n",
    "        input_currents_dual_moment=input_currents_LM,\n",
    "        base_frequency_dual_moment=210,    \n",
    "    )\n",
    "    \n",
    "    expmap = maps.ExpMap(mesh1D)\n",
    "\n",
    "    sim = EM1D(mesh1D, survey=TDsurvey, sigmaMap=expmap, verbose=False)\n",
    "    \n",
    "    prob.chi = np.zeros(TDsurvey.n_layer)\n",
    "    return TDsurvey, sim"
   ]
  },
  {
   "cell_type": "code",
   "execution_count": 4,
   "metadata": {},
   "outputs": [],
   "source": [
    "def get_resolve_survey_problem(mesh1D, m_true):\n",
    "    frequency = np.array([382, 1822, 7970, 35920, 130100], dtype=float)\n",
    "    FDsurvey = EM1DSurveyFD(\n",
    "        rx_location = np.array([0., 0., 30.]),\n",
    "        src_location = np.array([0., 0., 30.]),\n",
    "        field_type = 'secondary',\n",
    "        rx_type = 'ppm',\n",
    "        src_type = 'VMD',\n",
    "        offset = np.ones_like(frequency)*7.86,\n",
    "        topo = np.r_[0., 0., 0.],\n",
    "        depth = depth,\n",
    "        frequency = frequency\n",
    "    )\n",
    "    \n",
    "    expmap = Maps.ExpMap(mesh1D)\n",
    "    \n",
    "    sim = EM1D(\n",
    "        mesh1D, survey=FDsurvey, sigmaMap=expmap,\n",
    "        chi= np.zeros(FDsurvey.n_layer),\n",
    "        verbose=False\n",
    "    )\n",
    "      \n",
    "    return FDsurvey, sim"
   ]
  },
  {
   "cell_type": "code",
   "execution_count": 5,
   "metadata": {},
   "outputs": [
    {
     "data": {
      "text/plain": [
       "(0.5, 100)"
      ]
     },
     "execution_count": 5,
     "metadata": {},
     "output_type": "execute_result"
    },
    {
     "data": {
      "image/png": "[encoded data removed]",
      "text/plain": [
       "<Figure size 288x360 with 1 Axes>"
      ]
     },
     "metadata": {
      "needs_background": "light"
     },
     "output_type": "display_data"
    }
   ],
   "source": [
    "fig, ax = subplots(1,1, figsize=(4, 5))\n",
    "Utils1D.plotLayer(1./sig, mesh1D, showlayers=False, ax=ax)\n",
    "ax.set_xlabel(\"Resistivity ($\\Omega$m)\")\n",
    "plt.tight_layout()\n",
    "fig.savefig('resistivity', dpi=200)\n",
    "ax.set_xlim(0.5, 100)"
   ]
  },
  {
   "cell_type": "code",
   "execution_count": 6,
   "metadata": {},
   "outputs": [
    {
     "ename": "TypeError",
     "evalue": "'module' object is not callable",
     "output_type": "error",
     "traceback": [
      "\u001b[1;31m---------------------------------------------------------------------------\u001b[0m",
      "\u001b[1;31mTypeError\u001b[0m                                 Traceback (most recent call last)",
      "\u001b[1;32m<ipython-input-6-605a89743031>\u001b[0m in \u001b[0;36m<module>\u001b[1;34m\u001b[0m\n\u001b[1;32m----> 1\u001b[1;33m \u001b[0msurvey_skytem\u001b[0m\u001b[1;33m,\u001b[0m \u001b[0mprob_skytem\u001b[0m \u001b[1;33m=\u001b[0m \u001b[0mget_skytem_survey_problem\u001b[0m\u001b[1;33m(\u001b[0m\u001b[0mmesh1D\u001b[0m\u001b[1;33m,\u001b[0m \u001b[0mm_true\u001b[0m\u001b[1;33m)\u001b[0m\u001b[1;33m\u001b[0m\u001b[1;33m\u001b[0m\u001b[0m\n\u001b[0m\u001b[0;32m      2\u001b[0m \u001b[0msurvey_resolve\u001b[0m\u001b[1;33m,\u001b[0m \u001b[0mprob_resolve\u001b[0m \u001b[1;33m=\u001b[0m \u001b[0mget_resolve_survey_problem\u001b[0m\u001b[1;33m(\u001b[0m\u001b[0mmesh1D\u001b[0m\u001b[1;33m,\u001b[0m \u001b[0mm_true\u001b[0m\u001b[1;33m)\u001b[0m\u001b[1;33m\u001b[0m\u001b[1;33m\u001b[0m\u001b[0m\n",
      "\u001b[1;32m<ipython-input-3-17cafa8e4f9e>\u001b[0m in \u001b[0;36mget_skytem_survey_problem\u001b[1;34m(mesh1D, m_true)\u001b[0m\n\u001b[0;32m     31\u001b[0m     \u001b[0mexpmap\u001b[0m \u001b[1;33m=\u001b[0m \u001b[0mmaps\u001b[0m\u001b[1;33m.\u001b[0m\u001b[0mExpMap\u001b[0m\u001b[1;33m(\u001b[0m\u001b[0mmesh1D\u001b[0m\u001b[1;33m)\u001b[0m\u001b[1;33m\u001b[0m\u001b[1;33m\u001b[0m\u001b[0m\n\u001b[0;32m     32\u001b[0m \u001b[1;33m\u001b[0m\u001b[0m\n\u001b[1;32m---> 33\u001b[1;33m     \u001b[0msim\u001b[0m \u001b[1;33m=\u001b[0m \u001b[0mEM1D\u001b[0m\u001b[1;33m(\u001b[0m\u001b[0mmesh1D\u001b[0m\u001b[1;33m,\u001b[0m \u001b[0msurvey\u001b[0m\u001b[1;33m=\u001b[0m\u001b[0mTDsurvey\u001b[0m\u001b[1;33m,\u001b[0m \u001b[0msigmaMap\u001b[0m\u001b[1;33m=\u001b[0m\u001b[0mexpmap\u001b[0m\u001b[1;33m,\u001b[0m \u001b[0mverbose\u001b[0m\u001b[1;33m=\u001b[0m\u001b[1;32mFalse\u001b[0m\u001b[1;33m)\u001b[0m\u001b[1;33m\u001b[0m\u001b[1;33m\u001b[0m\u001b[0m\n\u001b[0m\u001b[0;32m     34\u001b[0m \u001b[1;33m\u001b[0m\u001b[0m\n\u001b[0;32m     35\u001b[0m     \u001b[0mprob\u001b[0m\u001b[1;33m.\u001b[0m\u001b[0mchi\u001b[0m \u001b[1;33m=\u001b[0m \u001b[0mnp\u001b[0m\u001b[1;33m.\u001b[0m\u001b[0mzeros\u001b[0m\u001b[1;33m(\u001b[0m\u001b[0mTDsurvey\u001b[0m\u001b[1;33m.\u001b[0m\u001b[0mn_layer\u001b[0m\u001b[1;33m)\u001b[0m\u001b[1;33m\u001b[0m\u001b[1;33m\u001b[0m\u001b[0m\n",
      "\u001b[1;31mTypeError\u001b[0m: 'module' object is not callable"
     ]
    }
   ],
   "source": [
    "survey_skytem, prob_skytem = get_skytem_survey_problem(mesh1D, m_true)\n",
    "survey_resolve, prob_resolve = get_resolve_survey_problem(mesh1D, m_true)"
   ]
  },
  {
   "cell_type": "code",
   "execution_count": null,
   "metadata": {},
   "outputs": [],
   "source": [
    "np.random.seed(1)\n",
    "dtrue_skytem = survey_skytem.dpred(m_true)\n",
    "floor = 0.\n",
    "std = 0.03\n",
    "noise = std*abs(dtrue_skytem)*np.random.randn(*dtrue_skytem.shape)\n",
    "survey_skytem.dobs = dtrue_skytem+noise\n",
    "uncert = abs(survey_skytem.dobs)*std+floor"
   ]
  },
  {
   "cell_type": "code",
   "execution_count": null,
   "metadata": {},
   "outputs": [],
   "source": [
    "dtrue_resolve = survey_resolve.dpred(m_true)\n",
    "floor = 0.\n",
    "std = 0.03\n",
    "noise = std*abs(dtrue_resolve)*np.random.randn(*dtrue_resolve.shape)\n",
    "survey_resolve.dobs = dtrue_resolve+noise\n",
    "uncert = abs(survey_resolve.dobs)*std+floor"
   ]
  },
  {
   "cell_type": "code",
   "execution_count": null,
   "metadata": {},
   "outputs": [],
   "source": [
    "fig, axes = subplots(1,1, figsize = (6,4))\n",
    "axes.plot(survey_skytem.time, -survey_skytem.dobs[:survey_skytem.n_time], '-', lw=2)\n",
    "axes.plot(survey_skytem.time_dual_moment, -survey_skytem.dobs[survey_skytem.n_time:], '-', lw=2)\n",
    "axes.set_xscale('log');\n",
    "axes.set_yscale('log');\n",
    "plt.legend((\"HM\", \"LM\"))\n",
    "plt.xlabel(\"Time (s)\")\n",
    "plt.ylabel(\"SkyTEM data (V/A-m$^2$)\")\n",
    "plt.tight_layout()"
   ]
  },
  {
   "cell_type": "code",
   "execution_count": null,
   "metadata": {},
   "outputs": [],
   "source": [
    "fig, axes = subplots(1,1, figsize = (6,4))\n",
    "axes.plot(survey_resolve.frequency, survey_resolve.dobs[:survey_resolve.n_frequency], '-', lw=2)\n",
    "axes.plot(survey_resolve.frequency, survey_resolve.dobs[survey_resolve.n_frequency:], '-', lw=2)\n",
    "axes.set_xscale('log');\n",
    "axes.set_yscale('log');\n",
    "plt.legend((\"Real\", \"Imaginary\"))\n",
    "plt.xlabel(\"Time (s)\")\n",
    "plt.ylabel(\"Resolve data (ppm)\")\n",
    "plt.tight_layout()"
   ]
  },
  {
   "cell_type": "code",
   "execution_count": null,
   "metadata": {},
   "outputs": [],
   "source": [
    "doi_skytem, actind_skytem = prob_skytem.depth_of_investigation_christiansen_2012(std, thres_hold=0.8)"
   ]
  },
  {
   "cell_type": "code",
   "execution_count": null,
   "metadata": {},
   "outputs": [],
   "source": [
    "doi_skytem"
   ]
  },
  {
   "cell_type": "code",
   "execution_count": null,
   "metadata": {},
   "outputs": [],
   "source": [
    "doi_resolve, actind_resolve = prob_resolve.depth_of_investigation_christiansen_2012(std, thres_hold=0.8)"
   ]
  },
  {
   "cell_type": "code",
   "execution_count": null,
   "metadata": {},
   "outputs": [],
   "source": [
    "doi_resolve"
   ]
  },
  {
   "cell_type": "markdown",
   "metadata": {},
   "source": [
    "# Question\n",
    "\n",
    "Alter the lowest frequency for resolve to 30 Hz, what is the DOI?"
   ]
  }
 ],
 "metadata": {
  "kernelspec": {
   "display_name": "Python 3",
   "language": "python",
   "name": "python3"
  },
  "language_info": {
   "codemirror_mode": {
    "name": "ipython",
    "version": 3
   },
   "file_extension": ".py",
   "mimetype": "text/x-python",
   "name": "python",
   "nbconvert_exporter": "python",
   "pygments_lexer": "ipython3",
   "version": "3.7.4"
  }
 },
 "nbformat": 4,
 "nbformat_minor": 1
}
